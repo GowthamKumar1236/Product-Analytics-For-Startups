{
 "cells": [
  {
   "cell_type": "markdown",
   "metadata": {},
   "source": [
    "# Business goal:\n",
    "- Perform data analysis.\n",
    "- Identify predictors affecting sales.\n",
    "- Offer a binary classification model for customers / buyers.\n",
    "- Segment customers."
   ]
  },
  {
   "cell_type": "markdown",
   "metadata": {},
   "source": [
    "### Import libraries, configure pandas"
   ]
  },
  {
   "cell_type": "code",
   "execution_count": 1,
   "metadata": {},
   "outputs": [],
   "source": [
    "import numpy as np # linear algebra\n",
    "import pandas as pd # data processing, CSV file I/O (e.g. pd.read_csv)"
   ]
  },
  {
   "cell_type": "code",
   "execution_count": 2,
   "metadata": {},
   "outputs": [],
   "source": [
    "import warnings\n",
    "warnings.filterwarnings('ignore')\n",
    "import datetime\n",
    "\n",
    "import pandas_summary as ps\n",
    "import matplotlib.pyplot as plt\n",
    "import seaborn as sns\n",
    "%matplotlib inline\n",
    "\n",
    "from sklearn.linear_model import LogisticRegression\n",
    "from sklearn.neighbors import KNeighborsClassifier\n",
    "from sklearn.naive_bayes import BernoulliNB\n",
    "from sklearn.ensemble import RandomForestClassifier\n",
    "from sklearn.feature_selection import SelectKBest, f_classif, chi2\n",
    "from sklearn.model_selection import train_test_split, cross_val_score\n",
    "from sklearn.model_selection import GridSearchCV\n",
    "from sklearn import metrics\n",
    "from sklearn import preprocessing\n",
    "from sklearn.preprocessing import MinMaxScaler\n",
    "from xgboost.sklearn import XGBClassifier\n",
    "from xgboost import plot_importance\n",
    "\n",
    "pd.set_option('display.max_rows', 500)\n",
    "pd.set_option('display.max_columns', 500)\n",
    "pd.set_option('display.width', 1000)\n",
    "pd.set_option('use_inf_as_na', True)\n",
    "random_state = 17"
   ]
  },
  {
   "cell_type": "markdown",
   "metadata": {},
   "source": [
    "# Legend:\n",
    "We are an online store of sports goods: clothing, shoes, accessories and sports nutrition. On the main page of the store we show users banners in order to stimulate their sales. Now one of 5 banners is randomly displayed there. Each banner advertises a specific product or the entire company. Our marketers believe that the experience with banners can vary by segment, and their effectiveness may depend on the characteristics of user behavior.\n",
    "The manager of the company had an offer from partners to sell this place for a banner and advertise another service there (payment is assumed according to the CPC model).\n",
    "Help the manager make a decision."
   ]
  },
  {
   "cell_type": "code",
   "execution_count": 3,
   "metadata": {},
   "outputs": [
    {
     "data": {
      "text/plain": [
       "(8471220, 8)"
      ]
     },
     "execution_count": 3,
     "metadata": {},
     "output_type": "execute_result"
    }
   ],
   "source": [
    "full_df = pd.read_csv('product.csv', sep=',')\n",
    "full_df.shape"
   ]
  },
  {
   "cell_type": "markdown",
   "metadata": {},
   "source": [
    "# Data Description:\n",
    "You have information about which banner appeared to the user, whether he clicked on it, as well as information about user purchases.\n",
    "* order_id - unique purchase number (NA for banner clicks and impressions)\n",
    "* user_id - unique identifier of the client\n",
    "* page_id - unique page number for event bundle (NA for purchases)\n",
    "* product - banner / purchase product\n",
    "* site_version - version of the site (mobile or desktop)\n",
    "* time - time of the action\n",
    "* title - type of event (show, click or purchase)\n",
    "* target - target class"
   ]
  },
  {
   "cell_type": "code",
   "execution_count": 4,
   "metadata": {},
   "outputs": [
    {
     "data": {
      "text/html": [
       "<div>\n",
       "<style scoped>\n",
       "    .dataframe tbody tr th:only-of-type {\n",
       "        vertical-align: middle;\n",
       "    }\n",
       "\n",
       "    .dataframe tbody tr th {\n",
       "        vertical-align: top;\n",
       "    }\n",
       "\n",
       "    .dataframe thead th {\n",
       "        text-align: right;\n",
       "    }\n",
       "</style>\n",
       "<table border=\"1\" class=\"dataframe\">\n",
       "  <thead>\n",
       "    <tr style=\"text-align: right;\">\n",
       "      <th></th>\n",
       "      <th>order_id</th>\n",
       "      <th>user_id</th>\n",
       "      <th>page_id</th>\n",
       "      <th>product</th>\n",
       "      <th>site_version</th>\n",
       "      <th>time</th>\n",
       "      <th>title</th>\n",
       "      <th>target</th>\n",
       "    </tr>\n",
       "  </thead>\n",
       "  <tbody>\n",
       "    <tr>\n",
       "      <th>0</th>\n",
       "      <td>cfcd208495d565ef66e7dff9f98764da</td>\n",
       "      <td>c81e728d9d4c2f636f067f89cc14862c</td>\n",
       "      <td>6f4922f45568161a8cdf4ad2299f6d23</td>\n",
       "      <td>sneakers</td>\n",
       "      <td>desktop</td>\n",
       "      <td>2019-01-11 09:24:43</td>\n",
       "      <td>banner_click</td>\n",
       "      <td>0</td>\n",
       "    </tr>\n",
       "    <tr>\n",
       "      <th>1</th>\n",
       "      <td>c4ca4238a0b923820dcc509a6f75849b</td>\n",
       "      <td>eccbc87e4b5ce2fe28308fd9f2a7baf3</td>\n",
       "      <td>4e732ced3463d06de0ca9a15b6153677</td>\n",
       "      <td>sneakers</td>\n",
       "      <td>desktop</td>\n",
       "      <td>2019-01-09 09:38:51</td>\n",
       "      <td>banner_show</td>\n",
       "      <td>0</td>\n",
       "    </tr>\n",
       "    <tr>\n",
       "      <th>2</th>\n",
       "      <td>c81e728d9d4c2f636f067f89cc14862c</td>\n",
       "      <td>eccbc87e4b5ce2fe28308fd9f2a7baf3</td>\n",
       "      <td>5c45a86277b8bf17bff6011be5cfb1b9</td>\n",
       "      <td>sports_nutrition</td>\n",
       "      <td>desktop</td>\n",
       "      <td>2019-01-09 09:12:45</td>\n",
       "      <td>banner_show</td>\n",
       "      <td>0</td>\n",
       "    </tr>\n",
       "    <tr>\n",
       "      <th>3</th>\n",
       "      <td>eccbc87e4b5ce2fe28308fd9f2a7baf3</td>\n",
       "      <td>eccbc87e4b5ce2fe28308fd9f2a7baf3</td>\n",
       "      <td>fb339ad311d50a229e497085aad219c7</td>\n",
       "      <td>company</td>\n",
       "      <td>desktop</td>\n",
       "      <td>2019-01-03 08:58:18</td>\n",
       "      <td>banner_show</td>\n",
       "      <td>0</td>\n",
       "    </tr>\n",
       "    <tr>\n",
       "      <th>4</th>\n",
       "      <td>a87ff679a2f3e71d9181a67b7542122c</td>\n",
       "      <td>eccbc87e4b5ce2fe28308fd9f2a7baf3</td>\n",
       "      <td>fb339ad311d50a229e497085aad219c7</td>\n",
       "      <td>company</td>\n",
       "      <td>desktop</td>\n",
       "      <td>2019-01-03 08:59:15</td>\n",
       "      <td>banner_click</td>\n",
       "      <td>0</td>\n",
       "    </tr>\n",
       "  </tbody>\n",
       "</table>\n",
       "</div>"
      ],
      "text/plain": [
       "                           order_id                           user_id                           page_id           product site_version                 time         title  target\n",
       "0  cfcd208495d565ef66e7dff9f98764da  c81e728d9d4c2f636f067f89cc14862c  6f4922f45568161a8cdf4ad2299f6d23          sneakers      desktop  2019-01-11 09:24:43  banner_click       0\n",
       "1  c4ca4238a0b923820dcc509a6f75849b  eccbc87e4b5ce2fe28308fd9f2a7baf3  4e732ced3463d06de0ca9a15b6153677          sneakers      desktop  2019-01-09 09:38:51   banner_show       0\n",
       "2  c81e728d9d4c2f636f067f89cc14862c  eccbc87e4b5ce2fe28308fd9f2a7baf3  5c45a86277b8bf17bff6011be5cfb1b9  sports_nutrition      desktop  2019-01-09 09:12:45   banner_show       0\n",
       "3  eccbc87e4b5ce2fe28308fd9f2a7baf3  eccbc87e4b5ce2fe28308fd9f2a7baf3  fb339ad311d50a229e497085aad219c7           company      desktop  2019-01-03 08:58:18   banner_show       0\n",
       "4  a87ff679a2f3e71d9181a67b7542122c  eccbc87e4b5ce2fe28308fd9f2a7baf3  fb339ad311d50a229e497085aad219c7           company      desktop  2019-01-03 08:59:15  banner_click       0"
      ]
     },
     "execution_count": 4,
     "metadata": {},
     "output_type": "execute_result"
    }
   ],
   "source": [
    "full_df.head()"
   ]
  },
  {
   "cell_type": "markdown",
   "metadata": {},
   "source": [
    "Предобратка to_datetime для разведки"
   ]
  },
  {
   "cell_type": "code",
   "execution_count": 5,
   "metadata": {},
   "outputs": [],
   "source": [
    "full_df['time'] = full_df['time'].apply(pd.to_datetime)"
   ]
  },
  {
   "cell_type": "markdown",
   "metadata": {},
   "source": [
    "## EDA"
   ]
  },
  {
   "cell_type": "code",
   "execution_count": 6,
   "metadata": {},
   "outputs": [
    {
     "name": "stdout",
     "output_type": "stream",
     "text": [
      "categoricals:  ['user_id', 'page_id', 'product', 'title']\n",
      "numerics:  []\n"
     ]
    },
    {
     "data": {
      "text/html": [
       "<div>\n",
       "<style scoped>\n",
       "    .dataframe tbody tr th:only-of-type {\n",
       "        vertical-align: middle;\n",
       "    }\n",
       "\n",
       "    .dataframe tbody tr th {\n",
       "        vertical-align: top;\n",
       "    }\n",
       "\n",
       "    .dataframe thead th {\n",
       "        text-align: right;\n",
       "    }\n",
       "</style>\n",
       "<table border=\"1\" class=\"dataframe\">\n",
       "  <thead>\n",
       "    <tr style=\"text-align: right;\">\n",
       "      <th></th>\n",
       "      <th>order_id</th>\n",
       "      <th>user_id</th>\n",
       "      <th>page_id</th>\n",
       "      <th>product</th>\n",
       "      <th>site_version</th>\n",
       "      <th>time</th>\n",
       "      <th>title</th>\n",
       "      <th>target</th>\n",
       "    </tr>\n",
       "  </thead>\n",
       "  <tbody>\n",
       "    <tr>\n",
       "      <th>count</th>\n",
       "      <td>NaN</td>\n",
       "      <td>NaN</td>\n",
       "      <td>NaN</td>\n",
       "      <td>NaN</td>\n",
       "      <td>NaN</td>\n",
       "      <td>NaN</td>\n",
       "      <td>NaN</td>\n",
       "      <td>8.47122e+06</td>\n",
       "    </tr>\n",
       "    <tr>\n",
       "      <th>mean</th>\n",
       "      <td>NaN</td>\n",
       "      <td>NaN</td>\n",
       "      <td>NaN</td>\n",
       "      <td>NaN</td>\n",
       "      <td>NaN</td>\n",
       "      <td>NaN</td>\n",
       "      <td>NaN</td>\n",
       "      <td>0.0293608</td>\n",
       "    </tr>\n",
       "    <tr>\n",
       "      <th>std</th>\n",
       "      <td>NaN</td>\n",
       "      <td>NaN</td>\n",
       "      <td>NaN</td>\n",
       "      <td>NaN</td>\n",
       "      <td>NaN</td>\n",
       "      <td>NaN</td>\n",
       "      <td>NaN</td>\n",
       "      <td>0.168816</td>\n",
       "    </tr>\n",
       "    <tr>\n",
       "      <th>min</th>\n",
       "      <td>NaN</td>\n",
       "      <td>NaN</td>\n",
       "      <td>NaN</td>\n",
       "      <td>NaN</td>\n",
       "      <td>NaN</td>\n",
       "      <td>NaN</td>\n",
       "      <td>NaN</td>\n",
       "      <td>0</td>\n",
       "    </tr>\n",
       "    <tr>\n",
       "      <th>25%</th>\n",
       "      <td>NaN</td>\n",
       "      <td>NaN</td>\n",
       "      <td>NaN</td>\n",
       "      <td>NaN</td>\n",
       "      <td>NaN</td>\n",
       "      <td>NaN</td>\n",
       "      <td>NaN</td>\n",
       "      <td>0</td>\n",
       "    </tr>\n",
       "    <tr>\n",
       "      <th>50%</th>\n",
       "      <td>NaN</td>\n",
       "      <td>NaN</td>\n",
       "      <td>NaN</td>\n",
       "      <td>NaN</td>\n",
       "      <td>NaN</td>\n",
       "      <td>NaN</td>\n",
       "      <td>NaN</td>\n",
       "      <td>0</td>\n",
       "    </tr>\n",
       "    <tr>\n",
       "      <th>75%</th>\n",
       "      <td>NaN</td>\n",
       "      <td>NaN</td>\n",
       "      <td>NaN</td>\n",
       "      <td>NaN</td>\n",
       "      <td>NaN</td>\n",
       "      <td>NaN</td>\n",
       "      <td>NaN</td>\n",
       "      <td>0</td>\n",
       "    </tr>\n",
       "    <tr>\n",
       "      <th>max</th>\n",
       "      <td>NaN</td>\n",
       "      <td>NaN</td>\n",
       "      <td>NaN</td>\n",
       "      <td>NaN</td>\n",
       "      <td>NaN</td>\n",
       "      <td>NaN</td>\n",
       "      <td>NaN</td>\n",
       "      <td>1</td>\n",
       "    </tr>\n",
       "    <tr>\n",
       "      <th>counts</th>\n",
       "      <td>8471220</td>\n",
       "      <td>8471220</td>\n",
       "      <td>8471220</td>\n",
       "      <td>8471220</td>\n",
       "      <td>8471220</td>\n",
       "      <td>8471220</td>\n",
       "      <td>8471220</td>\n",
       "      <td>8471220</td>\n",
       "    </tr>\n",
       "    <tr>\n",
       "      <th>uniques</th>\n",
       "      <td>8471220</td>\n",
       "      <td>4254619</td>\n",
       "      <td>7393316</td>\n",
       "      <td>5</td>\n",
       "      <td>2</td>\n",
       "      <td>5799549</td>\n",
       "      <td>3</td>\n",
       "      <td>2</td>\n",
       "    </tr>\n",
       "    <tr>\n",
       "      <th>missing</th>\n",
       "      <td>0</td>\n",
       "      <td>0</td>\n",
       "      <td>0</td>\n",
       "      <td>0</td>\n",
       "      <td>0</td>\n",
       "      <td>0</td>\n",
       "      <td>0</td>\n",
       "      <td>0</td>\n",
       "    </tr>\n",
       "    <tr>\n",
       "      <th>missing_perc</th>\n",
       "      <td>0%</td>\n",
       "      <td>0%</td>\n",
       "      <td>0%</td>\n",
       "      <td>0%</td>\n",
       "      <td>0%</td>\n",
       "      <td>0%</td>\n",
       "      <td>0%</td>\n",
       "      <td>0%</td>\n",
       "    </tr>\n",
       "    <tr>\n",
       "      <th>types</th>\n",
       "      <td>unique</td>\n",
       "      <td>categorical</td>\n",
       "      <td>categorical</td>\n",
       "      <td>categorical</td>\n",
       "      <td>bool</td>\n",
       "      <td>date</td>\n",
       "      <td>categorical</td>\n",
       "      <td>bool</td>\n",
       "    </tr>\n",
       "  </tbody>\n",
       "</table>\n",
       "</div>"
      ],
      "text/plain": [
       "             order_id      user_id      page_id      product site_version     time        title       target\n",
       "count             NaN          NaN          NaN          NaN          NaN      NaN          NaN  8.47122e+06\n",
       "mean              NaN          NaN          NaN          NaN          NaN      NaN          NaN    0.0293608\n",
       "std               NaN          NaN          NaN          NaN          NaN      NaN          NaN     0.168816\n",
       "min               NaN          NaN          NaN          NaN          NaN      NaN          NaN            0\n",
       "25%               NaN          NaN          NaN          NaN          NaN      NaN          NaN            0\n",
       "50%               NaN          NaN          NaN          NaN          NaN      NaN          NaN            0\n",
       "75%               NaN          NaN          NaN          NaN          NaN      NaN          NaN            0\n",
       "max               NaN          NaN          NaN          NaN          NaN      NaN          NaN            1\n",
       "counts        8471220      8471220      8471220      8471220      8471220  8471220      8471220      8471220\n",
       "uniques       8471220      4254619      7393316            5            2  5799549            3            2\n",
       "missing             0            0            0            0            0        0            0            0\n",
       "missing_perc       0%           0%           0%           0%           0%       0%           0%           0%\n",
       "types          unique  categorical  categorical  categorical         bool     date  categorical         bool"
      ]
     },
     "execution_count": 6,
     "metadata": {},
     "output_type": "execute_result"
    }
   ],
   "source": [
    "dfs = ps.DataFrameSummary(full_df)\n",
    "print('categoricals: ', dfs.categoricals.tolist())\n",
    "print('numerics: ', dfs.numerics.tolist())\n",
    "dfs.summary()"
   ]
  },
  {
   "cell_type": "code",
   "execution_count": 7,
   "metadata": {},
   "outputs": [
    {
     "name": "stdout",
     "output_type": "stream",
     "text": [
      "<class 'pandas.core.frame.DataFrame'>\n",
      "RangeIndex: 8471220 entries, 0 to 8471219\n",
      "Data columns (total 8 columns):\n",
      "order_id        object\n",
      "user_id         object\n",
      "page_id         object\n",
      "product         object\n",
      "site_version    object\n",
      "time            datetime64[ns]\n",
      "title           object\n",
      "target          int64\n",
      "dtypes: datetime64[ns](1), int64(1), object(6)\n",
      "memory usage: 517.0+ MB\n"
     ]
    }
   ],
   "source": [
    "full_df.info()"
   ]
  },
  {
   "cell_type": "markdown",
   "metadata": {},
   "source": [
    "Check NaN."
   ]
  },
  {
   "cell_type": "code",
   "execution_count": 8,
   "metadata": {},
   "outputs": [
    {
     "data": {
      "text/plain": [
       "order_id        0\n",
       "user_id         0\n",
       "page_id         0\n",
       "product         0\n",
       "site_version    0\n",
       "time            0\n",
       "title           0\n",
       "target          0\n",
       "dtype: int64"
      ]
     },
     "execution_count": 8,
     "metadata": {},
     "output_type": "execute_result"
    }
   ],
   "source": [
    "full_df.isnull().sum()"
   ]
  },
  {
   "cell_type": "markdown",
   "metadata": {},
   "source": [
    "* is_Buy - бинарная фича на основе fillna для page_id (1 для покупок)\n",
    "* +Доп проверка на качество данных"
   ]
  },
  {
   "cell_type": "code",
   "execution_count": 9,
   "metadata": {},
   "outputs": [
    {
     "name": "stdout",
     "output_type": "stream",
     "text": [
      "order_id\n",
      "1    8471220\n",
      "dtype: int64\n",
      "\n",
      "\n",
      "page_id\n",
      "1    8471220\n",
      "dtype: int64\n",
      "\n",
      "\n",
      "title\n",
      "banner_show     7393314\n",
      "banner_click     829184\n",
      "order            248722\n",
      "dtype: int64\n"
     ]
    },
    {
     "data": {
      "image/png": "[encoded data removed]",
      "text/plain": [
       "<Figure size 432x288 with 1 Axes>"
      ]
     },
     "metadata": {
      "needs_background": "light"
     },
     "output_type": "display_data"
    }
   ],
   "source": [
    "for i in ('order_id', 'page_id'):\n",
    "    full_df[i] = full_df[i].fillna(0).apply(lambda x: x if x == 0 else 1)\n",
    "    print(full_df.groupby([i]).size().sort_values(ascending=False).head(2))\n",
    "    print('\\n')\n",
    "print(full_df.groupby(['title']).size().sort_values(ascending=False).head())\n",
    "sns.countplot('title', data=full_df)\n",
    "plt.show();\n",
    "full_df.drop(['order_id', 'page_id'], axis=1, inplace=True)"
   ]
  },
  {
   "cell_type": "code",
   "execution_count": 10,
   "metadata": {},
   "outputs": [
    {
     "data": {
      "text/html": [
       "<div>\n",
       "<style scoped>\n",
       "    .dataframe tbody tr th:only-of-type {\n",
       "        vertical-align: middle;\n",
       "    }\n",
       "\n",
       "    .dataframe tbody tr th {\n",
       "        vertical-align: top;\n",
       "    }\n",
       "\n",
       "    .dataframe thead th {\n",
       "        text-align: right;\n",
       "    }\n",
       "</style>\n",
       "<table border=\"1\" class=\"dataframe\">\n",
       "  <thead>\n",
       "    <tr style=\"text-align: right;\">\n",
       "      <th></th>\n",
       "      <th>user_id</th>\n",
       "      <th>product</th>\n",
       "      <th>site_version</th>\n",
       "      <th>time</th>\n",
       "      <th>title</th>\n",
       "      <th>target</th>\n",
       "    </tr>\n",
       "  </thead>\n",
       "  <tbody>\n",
       "    <tr>\n",
       "      <th>0</th>\n",
       "      <td>c81e728d9d4c2f636f067f89cc14862c</td>\n",
       "      <td>sneakers</td>\n",
       "      <td>desktop</td>\n",
       "      <td>2019-01-11 09:24:43</td>\n",
       "      <td>banner_click</td>\n",
       "      <td>0</td>\n",
       "    </tr>\n",
       "    <tr>\n",
       "      <th>1</th>\n",
       "      <td>eccbc87e4b5ce2fe28308fd9f2a7baf3</td>\n",
       "      <td>sneakers</td>\n",
       "      <td>desktop</td>\n",
       "      <td>2019-01-09 09:38:51</td>\n",
       "      <td>banner_show</td>\n",
       "      <td>0</td>\n",
       "    </tr>\n",
       "    <tr>\n",
       "      <th>2</th>\n",
       "      <td>eccbc87e4b5ce2fe28308fd9f2a7baf3</td>\n",
       "      <td>sports_nutrition</td>\n",
       "      <td>desktop</td>\n",
       "      <td>2019-01-09 09:12:45</td>\n",
       "      <td>banner_show</td>\n",
       "      <td>0</td>\n",
       "    </tr>\n",
       "    <tr>\n",
       "      <th>3</th>\n",
       "      <td>eccbc87e4b5ce2fe28308fd9f2a7baf3</td>\n",
       "      <td>company</td>\n",
       "      <td>desktop</td>\n",
       "      <td>2019-01-03 08:58:18</td>\n",
       "      <td>banner_show</td>\n",
       "      <td>0</td>\n",
       "    </tr>\n",
       "    <tr>\n",
       "      <th>4</th>\n",
       "      <td>eccbc87e4b5ce2fe28308fd9f2a7baf3</td>\n",
       "      <td>company</td>\n",
       "      <td>desktop</td>\n",
       "      <td>2019-01-03 08:59:15</td>\n",
       "      <td>banner_click</td>\n",
       "      <td>0</td>\n",
       "    </tr>\n",
       "  </tbody>\n",
       "</table>\n",
       "</div>"
      ],
      "text/plain": [
       "                            user_id           product site_version                time         title  target\n",
       "0  c81e728d9d4c2f636f067f89cc14862c          sneakers      desktop 2019-01-11 09:24:43  banner_click       0\n",
       "1  eccbc87e4b5ce2fe28308fd9f2a7baf3          sneakers      desktop 2019-01-09 09:38:51   banner_show       0\n",
       "2  eccbc87e4b5ce2fe28308fd9f2a7baf3  sports_nutrition      desktop 2019-01-09 09:12:45   banner_show       0\n",
       "3  eccbc87e4b5ce2fe28308fd9f2a7baf3           company      desktop 2019-01-03 08:58:18   banner_show       0\n",
       "4  eccbc87e4b5ce2fe28308fd9f2a7baf3           company      desktop 2019-01-03 08:59:15  banner_click       0"
      ]
     },
     "execution_count": 10,
     "metadata": {},
     "output_type": "execute_result"
    }
   ],
   "source": [
    "full_df.head()"
   ]
  },
  {
   "cell_type": "markdown",
   "metadata": {},
   "source": [
    "Generate 2 binary features\n",
    "* is_banner_click - 1, if ever a client clicked on a banner\n",
    "* is_first_conversion - 1, if the first is a client visit"
   ]
  },
  {
   "cell_type": "code",
   "execution_count": 11,
   "metadata": {},
   "outputs": [
    {
     "data": {
      "image/png": "[encoded data removed]",
      "text/plain": [
       "<Figure size 432x288 with 1 Axes>"
      ]
     },
     "metadata": {
      "needs_background": "light"
     },
     "output_type": "display_data"
    }
   ],
   "source": [
    "full_df = full_df.assign(num_conversion=full_df.groupby(['user_id'])['time'].rank(method='first', ascending=True))\n",
    "sns.countplot('num_conversion', data=full_df)\n",
    "plt.show();\n",
    "full_df['IsBanner_click'] = full_df['title'].apply(lambda x: 1 if x == 'banner_click' else 0)\n",
    "full_df['IsBanner_click'] = full_df.groupby('user_id').IsBanner_click.transform(np.mean).apply(lambda x: 0 if x == 0 else 1)\n",
    "full_df['IsFirst_conversion'] = full_df['num_conversion'].apply(lambda x: 1 if x == 1 else 0)\n",
    "full_df.drop(['user_id', 'title'], axis=1, inplace=True)"
   ]
  },
  {
   "cell_type": "code",
   "execution_count": 12,
   "metadata": {},
   "outputs": [
    {
     "data": {
      "text/html": [
       "<div>\n",
       "<style scoped>\n",
       "    .dataframe tbody tr th:only-of-type {\n",
       "        vertical-align: middle;\n",
       "    }\n",
       "\n",
       "    .dataframe tbody tr th {\n",
       "        vertical-align: top;\n",
       "    }\n",
       "\n",
       "    .dataframe thead th {\n",
       "        text-align: right;\n",
       "    }\n",
       "</style>\n",
       "<table border=\"1\" class=\"dataframe\">\n",
       "  <thead>\n",
       "    <tr style=\"text-align: right;\">\n",
       "      <th></th>\n",
       "      <th>product</th>\n",
       "      <th>site_version</th>\n",
       "      <th>time</th>\n",
       "      <th>target</th>\n",
       "      <th>num_conversion</th>\n",
       "      <th>IsBanner_click</th>\n",
       "      <th>IsFirst_conversion</th>\n",
       "    </tr>\n",
       "  </thead>\n",
       "  <tbody>\n",
       "    <tr>\n",
       "      <th>0</th>\n",
       "      <td>sneakers</td>\n",
       "      <td>desktop</td>\n",
       "      <td>2019-01-11 09:24:43</td>\n",
       "      <td>0</td>\n",
       "      <td>1.0</td>\n",
       "      <td>1</td>\n",
       "      <td>1</td>\n",
       "    </tr>\n",
       "    <tr>\n",
       "      <th>1</th>\n",
       "      <td>sneakers</td>\n",
       "      <td>desktop</td>\n",
       "      <td>2019-01-09 09:38:51</td>\n",
       "      <td>0</td>\n",
       "      <td>4.0</td>\n",
       "      <td>1</td>\n",
       "      <td>0</td>\n",
       "    </tr>\n",
       "    <tr>\n",
       "      <th>2</th>\n",
       "      <td>sports_nutrition</td>\n",
       "      <td>desktop</td>\n",
       "      <td>2019-01-09 09:12:45</td>\n",
       "      <td>0</td>\n",
       "      <td>3.0</td>\n",
       "      <td>1</td>\n",
       "      <td>0</td>\n",
       "    </tr>\n",
       "    <tr>\n",
       "      <th>3</th>\n",
       "      <td>company</td>\n",
       "      <td>desktop</td>\n",
       "      <td>2019-01-03 08:58:18</td>\n",
       "      <td>0</td>\n",
       "      <td>1.0</td>\n",
       "      <td>1</td>\n",
       "      <td>1</td>\n",
       "    </tr>\n",
       "    <tr>\n",
       "      <th>4</th>\n",
       "      <td>company</td>\n",
       "      <td>desktop</td>\n",
       "      <td>2019-01-03 08:59:15</td>\n",
       "      <td>0</td>\n",
       "      <td>2.0</td>\n",
       "      <td>1</td>\n",
       "      <td>0</td>\n",
       "    </tr>\n",
       "  </tbody>\n",
       "</table>\n",
       "</div>"
      ],
      "text/plain": [
       "            product site_version                time  target  num_conversion  IsBanner_click  IsFirst_conversion\n",
       "0          sneakers      desktop 2019-01-11 09:24:43       0             1.0               1                   1\n",
       "1          sneakers      desktop 2019-01-09 09:38:51       0             4.0               1                   0\n",
       "2  sports_nutrition      desktop 2019-01-09 09:12:45       0             3.0               1                   0\n",
       "3           company      desktop 2019-01-03 08:58:18       0             1.0               1                   1\n",
       "4           company      desktop 2019-01-03 08:59:15       0             2.0               1                   0"
      ]
     },
     "execution_count": 12,
     "metadata": {},
     "output_type": "execute_result"
    }
   ],
   "source": [
    "full_df.head()"
   ]
  },
  {
   "cell_type": "markdown",
   "metadata": {},
   "source": [
    "## Working with dates\n",
    "- Seasonality (binary time_IsMorning, time_IsDaylight, time_IsEvening, time_IsNight)\n",
    "- Time of day (binary time_IsWinter)\n",
    "- Hour time_Hour\n",
    "- Day number in the month time_Day\n",
    "- Day number in the week time_Week_Day\n",
    "- Year * 100 + Month time_Year_Month"
   ]
  },
  {
   "cell_type": "code",
   "execution_count": 13,
   "metadata": {},
   "outputs": [],
   "source": [
    "full_df['time_IsMorning'] = full_df['time'].apply(lambda ts: 1 if (ts.hour >= 6) and (ts.hour < 10) else 0)\n",
    "full_df['time_IsDaylight'] = full_df['time'].apply(lambda ts: 1 if (ts.hour >= 10) and (ts.hour < 16) else 0)\n",
    "full_df['time_IsEvening'] = full_df['time'].apply(lambda ts: 1 if (ts.hour >= 16) and (ts.hour < 23) else 0)\n",
    "full_df['time_Hour'] = full_df['time'].apply(lambda ts: ts.hour)\n",
    "full_df['time_Day'] = full_df['time'].apply(lambda ts: ts.day)\n",
    "full_df['time_Week_Day'] = full_df['time'].apply(lambda ts: datetime.date(ts.year, ts.month, ts.day).weekday() + 1)\n",
    "full_df['time_Year_Month'] = full_df['time'].apply(lambda ts: ts.year * 100 + ts.month)\n",
    "full_df.drop(['time'], axis=1, inplace=True)"
   ]
  },
  {
   "cell_type": "code",
   "execution_count": 14,
   "metadata": {},
   "outputs": [
    {
     "data": {
      "text/html": [
       "<div>\n",
       "<style scoped>\n",
       "    .dataframe tbody tr th:only-of-type {\n",
       "        vertical-align: middle;\n",
       "    }\n",
       "\n",
       "    .dataframe tbody tr th {\n",
       "        vertical-align: top;\n",
       "    }\n",
       "\n",
       "    .dataframe thead th {\n",
       "        text-align: right;\n",
       "    }\n",
       "</style>\n",
       "<table border=\"1\" class=\"dataframe\">\n",
       "  <thead>\n",
       "    <tr style=\"text-align: right;\">\n",
       "      <th></th>\n",
       "      <th>product</th>\n",
       "      <th>site_version</th>\n",
       "      <th>target</th>\n",
       "      <th>num_conversion</th>\n",
       "      <th>IsBanner_click</th>\n",
       "      <th>IsFirst_conversion</th>\n",
       "      <th>time_IsMorning</th>\n",
       "      <th>time_IsDaylight</th>\n",
       "      <th>time_IsEvening</th>\n",
       "      <th>time_Hour</th>\n",
       "      <th>time_Day</th>\n",
       "      <th>time_Week_Day</th>\n",
       "      <th>time_Year_Month</th>\n",
       "    </tr>\n",
       "  </thead>\n",
       "  <tbody>\n",
       "    <tr>\n",
       "      <th>0</th>\n",
       "      <td>sneakers</td>\n",
       "      <td>desktop</td>\n",
       "      <td>0</td>\n",
       "      <td>1.0</td>\n",
       "      <td>1</td>\n",
       "      <td>1</td>\n",
       "      <td>1</td>\n",
       "      <td>0</td>\n",
       "      <td>0</td>\n",
       "      <td>9</td>\n",
       "      <td>11</td>\n",
       "      <td>5</td>\n",
       "      <td>201901</td>\n",
       "    </tr>\n",
       "    <tr>\n",
       "      <th>1</th>\n",
       "      <td>sneakers</td>\n",
       "      <td>desktop</td>\n",
       "      <td>0</td>\n",
       "      <td>4.0</td>\n",
       "      <td>1</td>\n",
       "      <td>0</td>\n",
       "      <td>1</td>\n",
       "      <td>0</td>\n",
       "      <td>0</td>\n",
       "      <td>9</td>\n",
       "      <td>9</td>\n",
       "      <td>3</td>\n",
       "      <td>201901</td>\n",
       "    </tr>\n",
       "    <tr>\n",
       "      <th>2</th>\n",
       "      <td>sports_nutrition</td>\n",
       "      <td>desktop</td>\n",
       "      <td>0</td>\n",
       "      <td>3.0</td>\n",
       "      <td>1</td>\n",
       "      <td>0</td>\n",
       "      <td>1</td>\n",
       "      <td>0</td>\n",
       "      <td>0</td>\n",
       "      <td>9</td>\n",
       "      <td>9</td>\n",
       "      <td>3</td>\n",
       "      <td>201901</td>\n",
       "    </tr>\n",
       "    <tr>\n",
       "      <th>3</th>\n",
       "      <td>company</td>\n",
       "      <td>desktop</td>\n",
       "      <td>0</td>\n",
       "      <td>1.0</td>\n",
       "      <td>1</td>\n",
       "      <td>1</td>\n",
       "      <td>1</td>\n",
       "      <td>0</td>\n",
       "      <td>0</td>\n",
       "      <td>8</td>\n",
       "      <td>3</td>\n",
       "      <td>4</td>\n",
       "      <td>201901</td>\n",
       "    </tr>\n",
       "    <tr>\n",
       "      <th>4</th>\n",
       "      <td>company</td>\n",
       "      <td>desktop</td>\n",
       "      <td>0</td>\n",
       "      <td>2.0</td>\n",
       "      <td>1</td>\n",
       "      <td>0</td>\n",
       "      <td>1</td>\n",
       "      <td>0</td>\n",
       "      <td>0</td>\n",
       "      <td>8</td>\n",
       "      <td>3</td>\n",
       "      <td>4</td>\n",
       "      <td>201901</td>\n",
       "    </tr>\n",
       "  </tbody>\n",
       "</table>\n",
       "</div>"
      ],
      "text/plain": [
       "            product site_version  target  num_conversion  IsBanner_click  IsFirst_conversion  time_IsMorning  time_IsDaylight  time_IsEvening  time_Hour  time_Day  time_Week_Day  time_Year_Month\n",
       "0          sneakers      desktop       0             1.0               1                   1               1                0               0          9        11              5           201901\n",
       "1          sneakers      desktop       0             4.0               1                   0               1                0               0          9         9              3           201901\n",
       "2  sports_nutrition      desktop       0             3.0               1                   0               1                0               0          9         9              3           201901\n",
       "3           company      desktop       0             1.0               1                   1               1                0               0          8         3              4           201901\n",
       "4           company      desktop       0             2.0               1                   0               1                0               0          8         3              4           201901"
      ]
     },
     "execution_count": 14,
     "metadata": {},
     "output_type": "execute_result"
    }
   ],
   "source": [
    "full_df.head()"
   ]
  },
  {
   "cell_type": "markdown",
   "metadata": {},
   "source": [
    "### Categorical features"
   ]
  },
  {
   "cell_type": "code",
   "execution_count": 15,
   "metadata": {},
   "outputs": [
    {
     "name": "stdout",
     "output_type": "stream",
     "text": [
      "\n",
      "\n",
      "product\n",
      "clothes             1786438\n",
      "company             1725056\n",
      "sneakers            1703342\n",
      "sports_nutrition    1634625\n",
      "accessories         1621759\n",
      "dtype: int64\n"
     ]
    },
    {
     "data": {
      "image/png": "[encoded data removed]",
      "text/plain": [
       "<Figure size 432x288 with 1 Axes>"
      ]
     },
     "metadata": {
      "needs_background": "light"
     },
     "output_type": "display_data"
    },
    {
     "name": "stdout",
     "output_type": "stream",
     "text": [
      "\n",
      "\n",
      "site_version\n",
      "mobile     6088335\n",
      "desktop    2382885\n",
      "dtype: int64\n"
     ]
    },
    {
     "data": {
      "image/png": "[encoded data removed]",
      "text/plain": [
       "<Figure size 432x288 with 1 Axes>"
      ]
     },
     "metadata": {
      "needs_background": "light"
     },
     "output_type": "display_data"
    }
   ],
   "source": [
    "for i in ['product', 'site_version']:\n",
    "    print('\\n')\n",
    "    print(full_df.groupby([i]).size().sort_values(ascending=False).head())\n",
    "    sns.countplot(i, data=full_df)\n",
    "    plt.show()"
   ]
  },
  {
   "cell_type": "code",
   "execution_count": 16,
   "metadata": {},
   "outputs": [],
   "source": [
    "full_df['SV_IsMobile'] = full_df['site_version'].map({'desktop': 0, 'mobile': 1})\n",
    "full_df.drop(['site_version'], axis=1, inplace=True)"
   ]
  },
  {
   "cell_type": "markdown",
   "metadata": {},
   "source": [
    "* Applying one hot encoding to the 'product' attribute"
   ]
  },
  {
   "cell_type": "code",
   "execution_count": 17,
   "metadata": {},
   "outputs": [],
   "source": [
    "full_df = pd.get_dummies(full_df, columns=['product'])"
   ]
  },
  {
   "cell_type": "code",
   "execution_count": 18,
   "metadata": {},
   "outputs": [
    {
     "data": {
      "text/html": [
       "<div>\n",
       "<style scoped>\n",
       "    .dataframe tbody tr th:only-of-type {\n",
       "        vertical-align: middle;\n",
       "    }\n",
       "\n",
       "    .dataframe tbody tr th {\n",
       "        vertical-align: top;\n",
       "    }\n",
       "\n",
       "    .dataframe thead th {\n",
       "        text-align: right;\n",
       "    }\n",
       "</style>\n",
       "<table border=\"1\" class=\"dataframe\">\n",
       "  <thead>\n",
       "    <tr style=\"text-align: right;\">\n",
       "      <th></th>\n",
       "      <th>target</th>\n",
       "      <th>num_conversion</th>\n",
       "      <th>IsBanner_click</th>\n",
       "      <th>IsFirst_conversion</th>\n",
       "      <th>time_IsMorning</th>\n",
       "      <th>time_IsDaylight</th>\n",
       "      <th>time_IsEvening</th>\n",
       "      <th>time_Hour</th>\n",
       "      <th>time_Day</th>\n",
       "      <th>time_Week_Day</th>\n",
       "      <th>time_Year_Month</th>\n",
       "      <th>SV_IsMobile</th>\n",
       "      <th>product_accessories</th>\n",
       "      <th>product_clothes</th>\n",
       "      <th>product_company</th>\n",
       "      <th>product_sneakers</th>\n",
       "      <th>product_sports_nutrition</th>\n",
       "    </tr>\n",
       "  </thead>\n",
       "  <tbody>\n",
       "    <tr>\n",
       "      <th>0</th>\n",
       "      <td>0</td>\n",
       "      <td>1.0</td>\n",
       "      <td>1</td>\n",
       "      <td>1</td>\n",
       "      <td>1</td>\n",
       "      <td>0</td>\n",
       "      <td>0</td>\n",
       "      <td>9</td>\n",
       "      <td>11</td>\n",
       "      <td>5</td>\n",
       "      <td>201901</td>\n",
       "      <td>0</td>\n",
       "      <td>0</td>\n",
       "      <td>0</td>\n",
       "      <td>0</td>\n",
       "      <td>1</td>\n",
       "      <td>0</td>\n",
       "    </tr>\n",
       "    <tr>\n",
       "      <th>1</th>\n",
       "      <td>0</td>\n",
       "      <td>4.0</td>\n",
       "      <td>1</td>\n",
       "      <td>0</td>\n",
       "      <td>1</td>\n",
       "      <td>0</td>\n",
       "      <td>0</td>\n",
       "      <td>9</td>\n",
       "      <td>9</td>\n",
       "      <td>3</td>\n",
       "      <td>201901</td>\n",
       "      <td>0</td>\n",
       "      <td>0</td>\n",
       "      <td>0</td>\n",
       "      <td>0</td>\n",
       "      <td>1</td>\n",
       "      <td>0</td>\n",
       "    </tr>\n",
       "    <tr>\n",
       "      <th>2</th>\n",
       "      <td>0</td>\n",
       "      <td>3.0</td>\n",
       "      <td>1</td>\n",
       "      <td>0</td>\n",
       "      <td>1</td>\n",
       "      <td>0</td>\n",
       "      <td>0</td>\n",
       "      <td>9</td>\n",
       "      <td>9</td>\n",
       "      <td>3</td>\n",
       "      <td>201901</td>\n",
       "      <td>0</td>\n",
       "      <td>0</td>\n",
       "      <td>0</td>\n",
       "      <td>0</td>\n",
       "      <td>0</td>\n",
       "      <td>1</td>\n",
       "    </tr>\n",
       "    <tr>\n",
       "      <th>3</th>\n",
       "      <td>0</td>\n",
       "      <td>1.0</td>\n",
       "      <td>1</td>\n",
       "      <td>1</td>\n",
       "      <td>1</td>\n",
       "      <td>0</td>\n",
       "      <td>0</td>\n",
       "      <td>8</td>\n",
       "      <td>3</td>\n",
       "      <td>4</td>\n",
       "      <td>201901</td>\n",
       "      <td>0</td>\n",
       "      <td>0</td>\n",
       "      <td>0</td>\n",
       "      <td>1</td>\n",
       "      <td>0</td>\n",
       "      <td>0</td>\n",
       "    </tr>\n",
       "    <tr>\n",
       "      <th>4</th>\n",
       "      <td>0</td>\n",
       "      <td>2.0</td>\n",
       "      <td>1</td>\n",
       "      <td>0</td>\n",
       "      <td>1</td>\n",
       "      <td>0</td>\n",
       "      <td>0</td>\n",
       "      <td>8</td>\n",
       "      <td>3</td>\n",
       "      <td>4</td>\n",
       "      <td>201901</td>\n",
       "      <td>0</td>\n",
       "      <td>0</td>\n",
       "      <td>0</td>\n",
       "      <td>1</td>\n",
       "      <td>0</td>\n",
       "      <td>0</td>\n",
       "    </tr>\n",
       "  </tbody>\n",
       "</table>\n",
       "</div>"
      ],
      "text/plain": [
       "   target  num_conversion  IsBanner_click  IsFirst_conversion  time_IsMorning  time_IsDaylight  time_IsEvening  time_Hour  time_Day  time_Week_Day  time_Year_Month  SV_IsMobile  product_accessories  product_clothes  product_company  product_sneakers  product_sports_nutrition\n",
       "0       0             1.0               1                   1               1                0               0          9        11              5           201901            0                    0                0                0                 1                         0\n",
       "1       0             4.0               1                   0               1                0               0          9         9              3           201901            0                    0                0                0                 1                         0\n",
       "2       0             3.0               1                   0               1                0               0          9         9              3           201901            0                    0                0                0                 0                         1\n",
       "3       0             1.0               1                   1               1                0               0          8         3              4           201901            0                    0                0                1                 0                         0\n",
       "4       0             2.0               1                   0               1                0               0          8         3              4           201901            0                    0                0                1                 0                         0"
      ]
     },
     "execution_count": 18,
     "metadata": {},
     "output_type": "execute_result"
    }
   ],
   "source": [
    "full_df.head()"
   ]
  },
  {
   "cell_type": "code",
   "execution_count": 19,
   "metadata": {},
   "outputs": [
    {
     "name": "stdout",
     "output_type": "stream",
     "text": [
      "categoricals:  []\n",
      "numerics:  ['num_conversion', 'time_Hour', 'time_Day', 'time_Week_Day', 'time_Year_Month']\n"
     ]
    },
    {
     "data": {
      "text/html": [
       "<div>\n",
       "<style scoped>\n",
       "    .dataframe tbody tr th:only-of-type {\n",
       "        vertical-align: middle;\n",
       "    }\n",
       "\n",
       "    .dataframe tbody tr th {\n",
       "        vertical-align: top;\n",
       "    }\n",
       "\n",
       "    .dataframe thead th {\n",
       "        text-align: right;\n",
       "    }\n",
       "</style>\n",
       "<table border=\"1\" class=\"dataframe\">\n",
       "  <thead>\n",
       "    <tr style=\"text-align: right;\">\n",
       "      <th></th>\n",
       "      <th>target</th>\n",
       "      <th>num_conversion</th>\n",
       "      <th>IsBanner_click</th>\n",
       "      <th>IsFirst_conversion</th>\n",
       "      <th>time_IsMorning</th>\n",
       "      <th>time_IsDaylight</th>\n",
       "      <th>time_IsEvening</th>\n",
       "      <th>time_Hour</th>\n",
       "      <th>time_Day</th>\n",
       "      <th>time_Week_Day</th>\n",
       "      <th>time_Year_Month</th>\n",
       "      <th>SV_IsMobile</th>\n",
       "      <th>product_accessories</th>\n",
       "      <th>product_clothes</th>\n",
       "      <th>product_company</th>\n",
       "      <th>product_sneakers</th>\n",
       "      <th>product_sports_nutrition</th>\n",
       "    </tr>\n",
       "  </thead>\n",
       "  <tbody>\n",
       "    <tr>\n",
       "      <th>count</th>\n",
       "      <td>8.47122e+06</td>\n",
       "      <td>8.47122e+06</td>\n",
       "      <td>8.47122e+06</td>\n",
       "      <td>8.47122e+06</td>\n",
       "      <td>8.47122e+06</td>\n",
       "      <td>8.47122e+06</td>\n",
       "      <td>8.47122e+06</td>\n",
       "      <td>8.47122e+06</td>\n",
       "      <td>8.47122e+06</td>\n",
       "      <td>8.47122e+06</td>\n",
       "      <td>8.47122e+06</td>\n",
       "      <td>8.47122e+06</td>\n",
       "      <td>8.47122e+06</td>\n",
       "      <td>8.47122e+06</td>\n",
       "      <td>8.47122e+06</td>\n",
       "      <td>8.47122e+06</td>\n",
       "      <td>8.47122e+06</td>\n",
       "    </tr>\n",
       "    <tr>\n",
       "      <th>mean</th>\n",
       "      <td>0.0293608</td>\n",
       "      <td>2.18278</td>\n",
       "      <td>0.339944</td>\n",
       "      <td>0.502244</td>\n",
       "      <td>0.255898</td>\n",
       "      <td>0.309202</td>\n",
       "      <td>0.323469</td>\n",
       "      <td>12.3612</td>\n",
       "      <td>15.7065</td>\n",
       "      <td>3.98646</td>\n",
       "      <td>201903</td>\n",
       "      <td>0.718708</td>\n",
       "      <td>0.191443</td>\n",
       "      <td>0.210883</td>\n",
       "      <td>0.203637</td>\n",
       "      <td>0.201074</td>\n",
       "      <td>0.192962</td>\n",
       "    </tr>\n",
       "    <tr>\n",
       "      <th>std</th>\n",
       "      <td>0.168816</td>\n",
       "      <td>1.88616</td>\n",
       "      <td>0.47369</td>\n",
       "      <td>0.499995</td>\n",
       "      <td>0.436365</td>\n",
       "      <td>0.462165</td>\n",
       "      <td>0.4678</td>\n",
       "      <td>5.42247</td>\n",
       "      <td>8.62291</td>\n",
       "      <td>1.98917</td>\n",
       "      <td>1.42111</td>\n",
       "      <td>0.44963</td>\n",
       "      <td>0.393437</td>\n",
       "      <td>0.407936</td>\n",
       "      <td>0.402702</td>\n",
       "      <td>0.400803</td>\n",
       "      <td>0.394624</td>\n",
       "    </tr>\n",
       "    <tr>\n",
       "      <th>min</th>\n",
       "      <td>0</td>\n",
       "      <td>1</td>\n",
       "      <td>0</td>\n",
       "      <td>0</td>\n",
       "      <td>0</td>\n",
       "      <td>0</td>\n",
       "      <td>0</td>\n",
       "      <td>0</td>\n",
       "      <td>1</td>\n",
       "      <td>1</td>\n",
       "      <td>201901</td>\n",
       "      <td>0</td>\n",
       "      <td>0</td>\n",
       "      <td>0</td>\n",
       "      <td>0</td>\n",
       "      <td>0</td>\n",
       "      <td>0</td>\n",
       "    </tr>\n",
       "    <tr>\n",
       "      <th>25%</th>\n",
       "      <td>0</td>\n",
       "      <td>1</td>\n",
       "      <td>0</td>\n",
       "      <td>0</td>\n",
       "      <td>0</td>\n",
       "      <td>0</td>\n",
       "      <td>0</td>\n",
       "      <td>8</td>\n",
       "      <td>8</td>\n",
       "      <td>2</td>\n",
       "      <td>201902</td>\n",
       "      <td>0</td>\n",
       "      <td>0</td>\n",
       "      <td>0</td>\n",
       "      <td>0</td>\n",
       "      <td>0</td>\n",
       "      <td>0</td>\n",
       "    </tr>\n",
       "    <tr>\n",
       "      <th>50%</th>\n",
       "      <td>0</td>\n",
       "      <td>1</td>\n",
       "      <td>0</td>\n",
       "      <td>1</td>\n",
       "      <td>0</td>\n",
       "      <td>0</td>\n",
       "      <td>0</td>\n",
       "      <td>12</td>\n",
       "      <td>16</td>\n",
       "      <td>4</td>\n",
       "      <td>201903</td>\n",
       "      <td>1</td>\n",
       "      <td>0</td>\n",
       "      <td>0</td>\n",
       "      <td>0</td>\n",
       "      <td>0</td>\n",
       "      <td>0</td>\n",
       "    </tr>\n",
       "    <tr>\n",
       "      <th>75%</th>\n",
       "      <td>0</td>\n",
       "      <td>3</td>\n",
       "      <td>1</td>\n",
       "      <td>1</td>\n",
       "      <td>1</td>\n",
       "      <td>1</td>\n",
       "      <td>1</td>\n",
       "      <td>17</td>\n",
       "      <td>23</td>\n",
       "      <td>6</td>\n",
       "      <td>201905</td>\n",
       "      <td>1</td>\n",
       "      <td>0</td>\n",
       "      <td>0</td>\n",
       "      <td>0</td>\n",
       "      <td>0</td>\n",
       "      <td>0</td>\n",
       "    </tr>\n",
       "    <tr>\n",
       "      <th>max</th>\n",
       "      <td>1</td>\n",
       "      <td>23</td>\n",
       "      <td>1</td>\n",
       "      <td>1</td>\n",
       "      <td>1</td>\n",
       "      <td>1</td>\n",
       "      <td>1</td>\n",
       "      <td>23</td>\n",
       "      <td>31</td>\n",
       "      <td>7</td>\n",
       "      <td>201905</td>\n",
       "      <td>1</td>\n",
       "      <td>1</td>\n",
       "      <td>1</td>\n",
       "      <td>1</td>\n",
       "      <td>1</td>\n",
       "      <td>1</td>\n",
       "    </tr>\n",
       "    <tr>\n",
       "      <th>counts</th>\n",
       "      <td>8471220</td>\n",
       "      <td>8471220</td>\n",
       "      <td>8471220</td>\n",
       "      <td>8471220</td>\n",
       "      <td>8471220</td>\n",
       "      <td>8471220</td>\n",
       "      <td>8471220</td>\n",
       "      <td>8471220</td>\n",
       "      <td>8471220</td>\n",
       "      <td>8471220</td>\n",
       "      <td>8471220</td>\n",
       "      <td>8471220</td>\n",
       "      <td>8471220</td>\n",
       "      <td>8471220</td>\n",
       "      <td>8471220</td>\n",
       "      <td>8471220</td>\n",
       "      <td>8471220</td>\n",
       "    </tr>\n",
       "    <tr>\n",
       "      <th>uniques</th>\n",
       "      <td>2</td>\n",
       "      <td>23</td>\n",
       "      <td>2</td>\n",
       "      <td>2</td>\n",
       "      <td>2</td>\n",
       "      <td>2</td>\n",
       "      <td>2</td>\n",
       "      <td>24</td>\n",
       "      <td>31</td>\n",
       "      <td>7</td>\n",
       "      <td>5</td>\n",
       "      <td>2</td>\n",
       "      <td>2</td>\n",
       "      <td>2</td>\n",
       "      <td>2</td>\n",
       "      <td>2</td>\n",
       "      <td>2</td>\n",
       "    </tr>\n",
       "    <tr>\n",
       "      <th>missing</th>\n",
       "      <td>0</td>\n",
       "      <td>0</td>\n",
       "      <td>0</td>\n",
       "      <td>0</td>\n",
       "      <td>0</td>\n",
       "      <td>0</td>\n",
       "      <td>0</td>\n",
       "      <td>0</td>\n",
       "      <td>0</td>\n",
       "      <td>0</td>\n",
       "      <td>0</td>\n",
       "      <td>0</td>\n",
       "      <td>0</td>\n",
       "      <td>0</td>\n",
       "      <td>0</td>\n",
       "      <td>0</td>\n",
       "      <td>0</td>\n",
       "    </tr>\n",
       "    <tr>\n",
       "      <th>missing_perc</th>\n",
       "      <td>0%</td>\n",
       "      <td>0%</td>\n",
       "      <td>0%</td>\n",
       "      <td>0%</td>\n",
       "      <td>0%</td>\n",
       "      <td>0%</td>\n",
       "      <td>0%</td>\n",
       "      <td>0%</td>\n",
       "      <td>0%</td>\n",
       "      <td>0%</td>\n",
       "      <td>0%</td>\n",
       "      <td>0%</td>\n",
       "      <td>0%</td>\n",
       "      <td>0%</td>\n",
       "      <td>0%</td>\n",
       "      <td>0%</td>\n",
       "      <td>0%</td>\n",
       "    </tr>\n",
       "    <tr>\n",
       "      <th>types</th>\n",
       "      <td>bool</td>\n",
       "      <td>numeric</td>\n",
       "      <td>bool</td>\n",
       "      <td>bool</td>\n",
       "      <td>bool</td>\n",
       "      <td>bool</td>\n",
       "      <td>bool</td>\n",
       "      <td>numeric</td>\n",
       "      <td>numeric</td>\n",
       "      <td>numeric</td>\n",
       "      <td>numeric</td>\n",
       "      <td>bool</td>\n",
       "      <td>bool</td>\n",
       "      <td>bool</td>\n",
       "      <td>bool</td>\n",
       "      <td>bool</td>\n",
       "      <td>bool</td>\n",
       "    </tr>\n",
       "  </tbody>\n",
       "</table>\n",
       "</div>"
      ],
      "text/plain": [
       "                   target num_conversion IsBanner_click IsFirst_conversion time_IsMorning time_IsDaylight time_IsEvening    time_Hour     time_Day time_Week_Day time_Year_Month  SV_IsMobile product_accessories product_clothes product_company product_sneakers product_sports_nutrition\n",
       "count         8.47122e+06    8.47122e+06    8.47122e+06        8.47122e+06    8.47122e+06     8.47122e+06    8.47122e+06  8.47122e+06  8.47122e+06   8.47122e+06     8.47122e+06  8.47122e+06         8.47122e+06     8.47122e+06     8.47122e+06      8.47122e+06              8.47122e+06\n",
       "mean            0.0293608        2.18278       0.339944           0.502244       0.255898        0.309202       0.323469      12.3612      15.7065       3.98646          201903     0.718708            0.191443        0.210883        0.203637         0.201074                 0.192962\n",
       "std              0.168816        1.88616        0.47369           0.499995       0.436365        0.462165         0.4678      5.42247      8.62291       1.98917         1.42111      0.44963            0.393437        0.407936        0.402702         0.400803                 0.394624\n",
       "min                     0              1              0                  0              0               0              0            0            1             1          201901            0                   0               0               0                0                        0\n",
       "25%                     0              1              0                  0              0               0              0            8            8             2          201902            0                   0               0               0                0                        0\n",
       "50%                     0              1              0                  1              0               0              0           12           16             4          201903            1                   0               0               0                0                        0\n",
       "75%                     0              3              1                  1              1               1              1           17           23             6          201905            1                   0               0               0                0                        0\n",
       "max                     1             23              1                  1              1               1              1           23           31             7          201905            1                   1               1               1                1                        1\n",
       "counts            8471220        8471220        8471220            8471220        8471220         8471220        8471220      8471220      8471220       8471220         8471220      8471220             8471220         8471220         8471220          8471220                  8471220\n",
       "uniques                 2             23              2                  2              2               2              2           24           31             7               5            2                   2               2               2                2                        2\n",
       "missing                 0              0              0                  0              0               0              0            0            0             0               0            0                   0               0               0                0                        0\n",
       "missing_perc           0%             0%             0%                 0%             0%              0%             0%           0%           0%            0%              0%           0%                  0%              0%              0%               0%                       0%\n",
       "types                bool        numeric           bool               bool           bool            bool           bool      numeric      numeric       numeric         numeric         bool                bool            bool            bool             bool                     bool"
      ]
     },
     "execution_count": 19,
     "metadata": {},
     "output_type": "execute_result"
    }
   ],
   "source": [
    "dfs = ps.DataFrameSummary(full_df)\n",
    "print('categoricals: ', dfs.categoricals.tolist())\n",
    "print('numerics: ', dfs.numerics.tolist())\n",
    "dfs.summary()"
   ]
  },
  {
   "cell_type": "markdown",
   "metadata": {},
   "source": [
    "## Great imbalance of the classes of the vector y "
   ]
  },
  {
   "cell_type": "code",
   "execution_count": 20,
   "metadata": {},
   "outputs": [
    {
     "data": {
      "image/png": "[encoded data removed]",
      "text/plain": [
       "<Figure size 432x288 with 1 Axes>"
      ]
     },
     "metadata": {
      "needs_background": "light"
     },
     "output_type": "display_data"
    }
   ],
   "source": [
    "sns.countplot('target', data=full_df)\n",
    "plt.show()"
   ]
  },
  {
   "cell_type": "markdown",
   "metadata": {},
   "source": [
    "### Manual random-balancing of classes + Selection of matrix X and vector y"
   ]
  },
  {
   "cell_type": "code",
   "execution_count": 21,
   "metadata": {},
   "outputs": [],
   "source": [
    "access_df = full_df.drop(['product_clothes', 'product_company', 'product_sneakers', 'product_sports_nutrition'], axis=1)"
   ]
  },
  {
   "cell_type": "code",
   "execution_count": 22,
   "metadata": {},
   "outputs": [
    {
     "name": "stdout",
     "output_type": "stream",
     "text": [
      "Perc. of banner click or show result:  0.5\n",
      "Perc. of order result:  0.5\n",
      "Total number of transactions in resampled data:  497444\n"
     ]
    },
    {
     "data": {
      "image/png": "[encoded data removed]",
      "text/plain": [
       "<Figure size 432x288 with 1 Axes>"
      ]
     },
     "metadata": {
      "needs_background": "light"
     },
     "output_type": "display_data"
    }
   ],
   "source": [
    "# Number of data points in the minority class\n",
    "number_records_fraud = len(full_df[full_df.target == 1])\n",
    "fraud_indices = np.array(full_df[full_df.target == 1].index)\n",
    "\n",
    "# Picking the indices of the normal classes\n",
    "normal_indices = full_df[full_df.target == 0].index\n",
    "\n",
    "# Out of the indices we picked, randomly select \"x\" number (number_records_fraud)\n",
    "random_normal_indices = np.random.choice(normal_indices, number_records_fraud, replace = False)\n",
    "random_normal_indices = np.array(random_normal_indices)\n",
    "\n",
    "# Appending the 2 indices\n",
    "under_sample_indices = np.concatenate([fraud_indices,random_normal_indices])\n",
    "\n",
    "# Under sample dataset\n",
    "under_sample_data = full_df.iloc[under_sample_indices,:]\n",
    "\n",
    "X = under_sample_data.ix[:, under_sample_data.columns != 'target']\n",
    "y = under_sample_data.ix[:, under_sample_data.columns == 'target']\n",
    "\n",
    "# Showing ratio\n",
    "print(\"Perc. of banner click or show result: \", len(under_sample_data[under_sample_data.target == 0])/len(under_sample_data))\n",
    "print(\"Perc. of order result: \", len(under_sample_data[under_sample_data.target == 1])/len(under_sample_data))\n",
    "print(\"Total number of transactions in resampled data: \", len(under_sample_data))\n",
    "sns.countplot('target', data=y)\n",
    "plt.show()"
   ]
  },
  {
   "cell_type": "code",
   "execution_count": 23,
   "metadata": {},
   "outputs": [
    {
     "data": {
      "text/plain": [
       "((497444, 16), (497444, 1))"
      ]
     },
     "execution_count": 23,
     "metadata": {},
     "output_type": "execute_result"
    }
   ],
   "source": [
    "X.shape, y.shape"
   ]
  },
  {
   "cell_type": "code",
   "execution_count": 24,
   "metadata": {},
   "outputs": [
    {
     "data": {
      "text/html": [
       "<div>\n",
       "<style scoped>\n",
       "    .dataframe tbody tr th:only-of-type {\n",
       "        vertical-align: middle;\n",
       "    }\n",
       "\n",
       "    .dataframe tbody tr th {\n",
       "        vertical-align: top;\n",
       "    }\n",
       "\n",
       "    .dataframe thead th {\n",
       "        text-align: right;\n",
       "    }\n",
       "</style>\n",
       "<table border=\"1\" class=\"dataframe\">\n",
       "  <thead>\n",
       "    <tr style=\"text-align: right;\">\n",
       "      <th></th>\n",
       "      <th>num_conversion</th>\n",
       "      <th>IsBanner_click</th>\n",
       "      <th>IsFirst_conversion</th>\n",
       "      <th>time_IsMorning</th>\n",
       "      <th>time_IsDaylight</th>\n",
       "      <th>time_IsEvening</th>\n",
       "      <th>time_Hour</th>\n",
       "      <th>time_Day</th>\n",
       "      <th>time_Week_Day</th>\n",
       "      <th>time_Year_Month</th>\n",
       "      <th>SV_IsMobile</th>\n",
       "      <th>product_accessories</th>\n",
       "      <th>product_clothes</th>\n",
       "      <th>product_company</th>\n",
       "      <th>product_sneakers</th>\n",
       "      <th>product_sports_nutrition</th>\n",
       "    </tr>\n",
       "  </thead>\n",
       "  <tbody>\n",
       "    <tr>\n",
       "      <th>60</th>\n",
       "      <td>5.0</td>\n",
       "      <td>1</td>\n",
       "      <td>0</td>\n",
       "      <td>0</td>\n",
       "      <td>1</td>\n",
       "      <td>0</td>\n",
       "      <td>10</td>\n",
       "      <td>3</td>\n",
       "      <td>7</td>\n",
       "      <td>201903</td>\n",
       "      <td>0</td>\n",
       "      <td>0</td>\n",
       "      <td>0</td>\n",
       "      <td>0</td>\n",
       "      <td>0</td>\n",
       "      <td>1</td>\n",
       "    </tr>\n",
       "    <tr>\n",
       "      <th>106</th>\n",
       "      <td>9.0</td>\n",
       "      <td>1</td>\n",
       "      <td>0</td>\n",
       "      <td>0</td>\n",
       "      <td>0</td>\n",
       "      <td>1</td>\n",
       "      <td>21</td>\n",
       "      <td>8</td>\n",
       "      <td>5</td>\n",
       "      <td>201902</td>\n",
       "      <td>0</td>\n",
       "      <td>0</td>\n",
       "      <td>0</td>\n",
       "      <td>0</td>\n",
       "      <td>1</td>\n",
       "      <td>0</td>\n",
       "    </tr>\n",
       "    <tr>\n",
       "      <th>107</th>\n",
       "      <td>10.0</td>\n",
       "      <td>1</td>\n",
       "      <td>0</td>\n",
       "      <td>0</td>\n",
       "      <td>0</td>\n",
       "      <td>1</td>\n",
       "      <td>19</td>\n",
       "      <td>10</td>\n",
       "      <td>7</td>\n",
       "      <td>201902</td>\n",
       "      <td>0</td>\n",
       "      <td>0</td>\n",
       "      <td>1</td>\n",
       "      <td>0</td>\n",
       "      <td>0</td>\n",
       "      <td>0</td>\n",
       "    </tr>\n",
       "    <tr>\n",
       "      <th>165</th>\n",
       "      <td>3.0</td>\n",
       "      <td>0</td>\n",
       "      <td>0</td>\n",
       "      <td>0</td>\n",
       "      <td>1</td>\n",
       "      <td>0</td>\n",
       "      <td>10</td>\n",
       "      <td>6</td>\n",
       "      <td>3</td>\n",
       "      <td>201902</td>\n",
       "      <td>1</td>\n",
       "      <td>0</td>\n",
       "      <td>0</td>\n",
       "      <td>0</td>\n",
       "      <td>0</td>\n",
       "      <td>1</td>\n",
       "    </tr>\n",
       "    <tr>\n",
       "      <th>179</th>\n",
       "      <td>1.0</td>\n",
       "      <td>1</td>\n",
       "      <td>1</td>\n",
       "      <td>0</td>\n",
       "      <td>0</td>\n",
       "      <td>1</td>\n",
       "      <td>19</td>\n",
       "      <td>10</td>\n",
       "      <td>7</td>\n",
       "      <td>201902</td>\n",
       "      <td>1</td>\n",
       "      <td>1</td>\n",
       "      <td>0</td>\n",
       "      <td>0</td>\n",
       "      <td>0</td>\n",
       "      <td>0</td>\n",
       "    </tr>\n",
       "  </tbody>\n",
       "</table>\n",
       "</div>"
      ],
      "text/plain": [
       "     num_conversion  IsBanner_click  IsFirst_conversion  time_IsMorning  time_IsDaylight  time_IsEvening  time_Hour  time_Day  time_Week_Day  time_Year_Month  SV_IsMobile  product_accessories  product_clothes  product_company  product_sneakers  product_sports_nutrition\n",
       "60              5.0               1                   0               0                1               0         10         3              7           201903            0                    0                0                0                 0                         1\n",
       "106             9.0               1                   0               0                0               1         21         8              5           201902            0                    0                0                0                 1                         0\n",
       "107            10.0               1                   0               0                0               1         19        10              7           201902            0                    0                1                0                 0                         0\n",
       "165             3.0               0                   0               0                1               0         10         6              3           201902            1                    0                0                0                 0                         1\n",
       "179             1.0               1                   1               0                0               1         19        10              7           201902            1                    1                0                0                 0                         0"
      ]
     },
     "execution_count": 24,
     "metadata": {},
     "output_type": "execute_result"
    }
   ],
   "source": [
    "X.head()"
   ]
  },
  {
   "cell_type": "markdown",
   "metadata": {},
   "source": [
    "##### Data is balanced and ready for normalization"
   ]
  },
  {
   "cell_type": "code",
   "execution_count": 25,
   "metadata": {},
   "outputs": [
    {
     "data": {
      "text/html": [
       "<div>\n",
       "<style scoped>\n",
       "    .dataframe tbody tr th:only-of-type {\n",
       "        vertical-align: middle;\n",
       "    }\n",
       "\n",
       "    .dataframe tbody tr th {\n",
       "        vertical-align: top;\n",
       "    }\n",
       "\n",
       "    .dataframe thead th {\n",
       "        text-align: right;\n",
       "    }\n",
       "</style>\n",
       "<table border=\"1\" class=\"dataframe\">\n",
       "  <thead>\n",
       "    <tr style=\"text-align: right;\">\n",
       "      <th></th>\n",
       "      <th>num_conversion</th>\n",
       "      <th>IsBanner_click</th>\n",
       "      <th>IsFirst_conversion</th>\n",
       "      <th>time_IsMorning</th>\n",
       "      <th>time_IsDaylight</th>\n",
       "      <th>time_IsEvening</th>\n",
       "      <th>time_Hour</th>\n",
       "      <th>time_Day</th>\n",
       "      <th>time_Week_Day</th>\n",
       "      <th>time_Year_Month</th>\n",
       "      <th>SV_IsMobile</th>\n",
       "      <th>product_accessories</th>\n",
       "      <th>product_clothes</th>\n",
       "      <th>product_company</th>\n",
       "      <th>product_sneakers</th>\n",
       "      <th>product_sports_nutrition</th>\n",
       "    </tr>\n",
       "  </thead>\n",
       "  <tbody>\n",
       "    <tr>\n",
       "      <th>count</th>\n",
       "      <td>497444.000000</td>\n",
       "      <td>497444.000000</td>\n",
       "      <td>497444.000000</td>\n",
       "      <td>497444.000000</td>\n",
       "      <td>497444.000000</td>\n",
       "      <td>497444.000000</td>\n",
       "      <td>497444.000000</td>\n",
       "      <td>497444.000000</td>\n",
       "      <td>497444.000000</td>\n",
       "      <td>497444.000000</td>\n",
       "      <td>497444.000000</td>\n",
       "      <td>497444.000000</td>\n",
       "      <td>497444.000000</td>\n",
       "      <td>497444.000000</td>\n",
       "      <td>497444.000000</td>\n",
       "      <td>497444.000000</td>\n",
       "    </tr>\n",
       "    <tr>\n",
       "      <th>mean</th>\n",
       "      <td>2.429715</td>\n",
       "      <td>0.408635</td>\n",
       "      <td>0.445819</td>\n",
       "      <td>0.196237</td>\n",
       "      <td>0.302766</td>\n",
       "      <td>0.334410</td>\n",
       "      <td>12.499437</td>\n",
       "      <td>15.707097</td>\n",
       "      <td>3.987995</td>\n",
       "      <td>201903.226657</td>\n",
       "      <td>0.596256</td>\n",
       "      <td>0.185607</td>\n",
       "      <td>0.328654</td>\n",
       "      <td>0.104946</td>\n",
       "      <td>0.235699</td>\n",
       "      <td>0.145094</td>\n",
       "    </tr>\n",
       "    <tr>\n",
       "      <th>std</th>\n",
       "      <td>2.052944</td>\n",
       "      <td>0.491582</td>\n",
       "      <td>0.497056</td>\n",
       "      <td>0.397150</td>\n",
       "      <td>0.459455</td>\n",
       "      <td>0.471784</td>\n",
       "      <td>6.030023</td>\n",
       "      <td>8.685995</td>\n",
       "      <td>1.989665</td>\n",
       "      <td>1.382340</td>\n",
       "      <td>0.490648</td>\n",
       "      <td>0.388789</td>\n",
       "      <td>0.469724</td>\n",
       "      <td>0.306485</td>\n",
       "      <td>0.424435</td>\n",
       "      <td>0.352196</td>\n",
       "    </tr>\n",
       "    <tr>\n",
       "      <th>min</th>\n",
       "      <td>1.000000</td>\n",
       "      <td>0.000000</td>\n",
       "      <td>0.000000</td>\n",
       "      <td>0.000000</td>\n",
       "      <td>0.000000</td>\n",
       "      <td>0.000000</td>\n",
       "      <td>0.000000</td>\n",
       "      <td>1.000000</td>\n",
       "      <td>1.000000</td>\n",
       "      <td>201901.000000</td>\n",
       "      <td>0.000000</td>\n",
       "      <td>0.000000</td>\n",
       "      <td>0.000000</td>\n",
       "      <td>0.000000</td>\n",
       "      <td>0.000000</td>\n",
       "      <td>0.000000</td>\n",
       "    </tr>\n",
       "    <tr>\n",
       "      <th>25%</th>\n",
       "      <td>1.000000</td>\n",
       "      <td>0.000000</td>\n",
       "      <td>0.000000</td>\n",
       "      <td>0.000000</td>\n",
       "      <td>0.000000</td>\n",
       "      <td>0.000000</td>\n",
       "      <td>8.000000</td>\n",
       "      <td>8.000000</td>\n",
       "      <td>2.000000</td>\n",
       "      <td>201902.000000</td>\n",
       "      <td>0.000000</td>\n",
       "      <td>0.000000</td>\n",
       "      <td>0.000000</td>\n",
       "      <td>0.000000</td>\n",
       "      <td>0.000000</td>\n",
       "      <td>0.000000</td>\n",
       "    </tr>\n",
       "    <tr>\n",
       "      <th>50%</th>\n",
       "      <td>2.000000</td>\n",
       "      <td>0.000000</td>\n",
       "      <td>0.000000</td>\n",
       "      <td>0.000000</td>\n",
       "      <td>0.000000</td>\n",
       "      <td>0.000000</td>\n",
       "      <td>13.000000</td>\n",
       "      <td>16.000000</td>\n",
       "      <td>4.000000</td>\n",
       "      <td>201903.000000</td>\n",
       "      <td>1.000000</td>\n",
       "      <td>0.000000</td>\n",
       "      <td>0.000000</td>\n",
       "      <td>0.000000</td>\n",
       "      <td>0.000000</td>\n",
       "      <td>0.000000</td>\n",
       "    </tr>\n",
       "    <tr>\n",
       "      <th>75%</th>\n",
       "      <td>3.000000</td>\n",
       "      <td>1.000000</td>\n",
       "      <td>1.000000</td>\n",
       "      <td>0.000000</td>\n",
       "      <td>1.000000</td>\n",
       "      <td>1.000000</td>\n",
       "      <td>17.000000</td>\n",
       "      <td>23.000000</td>\n",
       "      <td>6.000000</td>\n",
       "      <td>201904.000000</td>\n",
       "      <td>1.000000</td>\n",
       "      <td>0.000000</td>\n",
       "      <td>1.000000</td>\n",
       "      <td>0.000000</td>\n",
       "      <td>0.000000</td>\n",
       "      <td>0.000000</td>\n",
       "    </tr>\n",
       "    <tr>\n",
       "      <th>max</th>\n",
       "      <td>22.000000</td>\n",
       "      <td>1.000000</td>\n",
       "      <td>1.000000</td>\n",
       "      <td>1.000000</td>\n",
       "      <td>1.000000</td>\n",
       "      <td>1.000000</td>\n",
       "      <td>23.000000</td>\n",
       "      <td>31.000000</td>\n",
       "      <td>7.000000</td>\n",
       "      <td>201905.000000</td>\n",
       "      <td>1.000000</td>\n",
       "      <td>1.000000</td>\n",
       "      <td>1.000000</td>\n",
       "      <td>1.000000</td>\n",
       "      <td>1.000000</td>\n",
       "      <td>1.000000</td>\n",
       "    </tr>\n",
       "  </tbody>\n",
       "</table>\n",
       "</div>"
      ],
      "text/plain": [
       "       num_conversion  IsBanner_click  IsFirst_conversion  time_IsMorning  time_IsDaylight  time_IsEvening      time_Hour       time_Day  time_Week_Day  time_Year_Month    SV_IsMobile  product_accessories  product_clothes  product_company  product_sneakers  product_sports_nutrition\n",
       "count   497444.000000   497444.000000       497444.000000   497444.000000    497444.000000   497444.000000  497444.000000  497444.000000  497444.000000    497444.000000  497444.000000        497444.000000    497444.000000    497444.000000     497444.000000             497444.000000\n",
       "mean         2.429715        0.408635            0.445819        0.196237         0.302766        0.334410      12.499437      15.707097       3.987995    201903.226657       0.596256             0.185607         0.328654         0.104946          0.235699                  0.145094\n",
       "std          2.052944        0.491582            0.497056        0.397150         0.459455        0.471784       6.030023       8.685995       1.989665         1.382340       0.490648             0.388789         0.469724         0.306485          0.424435                  0.352196\n",
       "min          1.000000        0.000000            0.000000        0.000000         0.000000        0.000000       0.000000       1.000000       1.000000    201901.000000       0.000000             0.000000         0.000000         0.000000          0.000000                  0.000000\n",
       "25%          1.000000        0.000000            0.000000        0.000000         0.000000        0.000000       8.000000       8.000000       2.000000    201902.000000       0.000000             0.000000         0.000000         0.000000          0.000000                  0.000000\n",
       "50%          2.000000        0.000000            0.000000        0.000000         0.000000        0.000000      13.000000      16.000000       4.000000    201903.000000       1.000000             0.000000         0.000000         0.000000          0.000000                  0.000000\n",
       "75%          3.000000        1.000000            1.000000        0.000000         1.000000        1.000000      17.000000      23.000000       6.000000    201904.000000       1.000000             0.000000         1.000000         0.000000          0.000000                  0.000000\n",
       "max         22.000000        1.000000            1.000000        1.000000         1.000000        1.000000      23.000000      31.000000       7.000000    201905.000000       1.000000             1.000000         1.000000         1.000000          1.000000                  1.000000"
      ]
     },
     "execution_count": 25,
     "metadata": {},
     "output_type": "execute_result"
    }
   ],
   "source": [
    "X.describe()"
   ]
  },
  {
   "cell_type": "markdown",
   "metadata": {},
   "source": [
    "### Normalization of matrix X"
   ]
  },
  {
   "cell_type": "code",
   "execution_count": 26,
   "metadata": {},
   "outputs": [],
   "source": [
    "stand_X = pd.DataFrame(preprocessing.scale(X), columns=X.columns)"
   ]
  },
  {
   "cell_type": "markdown",
   "metadata": {},
   "source": [
    "### Python class for quick analysis of a feature set.\n",
    "\n",
    "- withdrawal of the rating of signs on simple algorithms \"out of the box\" + average rating\n",
    "- test of the current feature set on simple models without selection of hyperparameters and regularization\n",
    "\n",
    "#### testing of simple models (including KNN) I do under the need to show precedents - it is important for business"
   ]
  },
  {
   "cell_type": "code",
   "execution_count": 27,
   "metadata": {},
   "outputs": [],
   "source": [
    "class Feat_Importance:\n",
    "    df = None\n",
    "    columns = None\n",
    "    random_state = None\n",
    "    ranks = {}\n",
    "        \n",
    "    def __init__(self, X, y, columns, random_state=56, show_dict='N', show_plot='N'):\n",
    "        self.X = X\n",
    "        self.y = y\n",
    "        self.names = columns\n",
    "        self.random_state = random_state\n",
    "        self.show_dict = show_dict\n",
    "        self.show_plot = show_plot\n",
    "        \n",
    "    def __rank_to_dict(self, ranks, names, order=1):\n",
    "        minmax = MinMaxScaler()\n",
    "        ranks = minmax.fit_transform(order*np.array([ranks]).T).T[0]\n",
    "        ranks = map(lambda x: round(x, 2), ranks)\n",
    "        return dict(zip(names, ranks))\n",
    "    \n",
    "    def feat_stats(self):\n",
    "        self.ranks = {}\n",
    "        self.get_KBest()\n",
    "        self.get_LogReg()\n",
    "        self.get_XGBC()\n",
    "        \n",
    "    def get_KBest(self):\n",
    "        selector = SelectKBest(f_classif)\n",
    "        selector.fit(self.X, self.y)\n",
    "        scores = selector.scores_\n",
    "        scores = pd.Series(scores).fillna(0)\n",
    "        self.ranks[\"KBest\"] = self.__rank_to_dict(scores, self.names)\n",
    "        if self.show_dict == 'Y': \n",
    "            print('===== KBest dict =====\\n', self.ranks[\"KBest\"], '\\n\\n\\n')\n",
    "        if self.show_plot == 'Y': \n",
    "            print('===== KBest plot =====\\n', self.X.shape)\n",
    "            plt.bar(range(len(self.names)), -np.log10(selector.pvalues_))\n",
    "            plt.xticks(range(len(self.names)), self.names, rotation='vertical');\n",
    "            \n",
    "    def get_LogReg(self):\n",
    "        model_LogRegRidge = LogisticRegression(penalty='l2', C=0.15, \n",
    "                                               random_state=self.random_state, solver='liblinear', \n",
    "                                               n_jobs=-1)\n",
    "        model_LogRegRidge.fit(self.X, self.y)\n",
    "        self.ranks[\"LogRegRidge\"] = self.__rank_to_dict(list(map(float, \n",
    "                                    model_LogRegRidge.coef_.reshape(len(self.names), -1))),\n",
    "                                    self.names, order=1)\n",
    "        \n",
    "        if self.show_dict == 'Y': \n",
    "            print('===== LogRegRidge dict =====\\n', self.ranks[\"LogRegRidge\"], '\\n\\n\\n')\n",
    "        if self.show_plot == 'Y':\n",
    "            print('===== LogRegRidge plot =====\\n', self.X.shape)\n",
    "            listsRidge = sorted(self.ranks[\"LogRegRidge\"].items(), key=operator.itemgetter(1))\n",
    "            dfRidge = pd.DataFrame(np.array(listsRidge).reshape(len(listsRidge), 2),\n",
    "                       columns=['Features', 'Ranks']).sort_values('Ranks')\n",
    "            dfRidge['Ranks'] = dfRidge['Ranks'].astype(float)\n",
    "            dfRidge.plot.bar(x='Features', y='Ranks', color='blue')\n",
    "            plt.xticks(rotation=90)\n",
    "    \n",
    "    def get_XGBC(self):\n",
    "        model_XGBC = XGBClassifier(objective='binary:logistic',\n",
    "                           max_depth=7, min_child_weight=5,\n",
    "                           gamma=0, random_state=random_state, n_jobs=-1,\n",
    "                           learning_rate=0.1, n_estimators=200)\n",
    "        model_XGBC.fit(self.X, self.y)\n",
    "        self.ranks[\"XGBC\"] = self.__rank_to_dict(model_XGBC.feature_importances_, self.names)\n",
    "        if self.show_dict == 'Y': \n",
    "            print('===== XGBClassifier dict =====\\n', self.ranks[\"XGBC\"], '\\n\\n\\n')\n",
    "        if self.show_plot == 'Y':\n",
    "            print('===== XGBClassifier plot =====\\n', self.X.shape)\n",
    "            plot_importance(model_XGBC)\n",
    "            plt.show()\n",
    "    \n",
    "    def stats_df(self):\n",
    "        r = {}\n",
    "        for name in self.names:\n",
    "            r[name] = round(np.mean([self.ranks[method][name] for method in self.ranks.keys()]), 2)\n",
    "        methods = sorted(self.ranks.keys())\n",
    "        self.ranks['Mean'] = r\n",
    "        methods.append('Mean')\n",
    "\n",
    "        row_index, AllFeatures_columns = 0, ['Feature', 'Scores']\n",
    "        AllFeats = pd.DataFrame(columns=AllFeatures_columns)\n",
    "        for name in self.names:\n",
    "            AllFeats.loc[row_index, 'Feature'] = name\n",
    "            AllFeats.loc[row_index, 'Scores'] = [self.ranks[method][name] for method in methods]\n",
    "            row_index += 1\n",
    "        AllFeatures_only = pd.DataFrame(AllFeats.Scores.tolist(), )\n",
    "        AllFeatures_only.rename(columns={0: 'KBest', 1: 'LogRegRidge', 2: 'XGB Classifier', 3: 'Mean'}, inplace=True)\n",
    "        AllFeatures_only = AllFeatures_only[['KBest', 'LogRegRidge', 'XGB Classifier', 'Mean']]\n",
    "        AllFeatures_compare = AllFeats.join(AllFeatures_only).drop(['Scores'], axis=1)\n",
    "        return AllFeatures_compare\n",
    "    \n",
    "    def simple_test(self):\n",
    "        x_train, x_valid, y_train, y_valid = train_test_split(self.X, self.y, test_size=0.3, random_state=random_state+37)\n",
    "        mods = ('BernoulliNB', 'KNeighborsClassifier', 'RandomForestClassifier')\n",
    "        for nu, model in enumerate([BernoulliNB(), KNeighborsClassifier(n_jobs=-1), \n",
    "                      RandomForestClassifier(n_jobs=-1)]):\n",
    "            model.fit(x_train, y_train)\n",
    "            predicted = model.predict(x_valid)\n",
    "            print(mods[nu])\n",
    "            print('------ accuracy ------\\n', metrics.accuracy_score(y_valid, predicted))\n",
    "            #print('------ confusion_matrix ------\\n', metrics.confusion_matrix(y_valid, predicted))\n",
    "            print('------ roc_auc_score ------\\n', metrics.roc_auc_score(y_valid, predicted))\n",
    "            print('\\n')"
   ]
  },
  {
   "cell_type": "code",
   "execution_count": 28,
   "metadata": {},
   "outputs": [
    {
     "data": {
      "text/html": [
       "<div>\n",
       "<style scoped>\n",
       "    .dataframe tbody tr th:only-of-type {\n",
       "        vertical-align: middle;\n",
       "    }\n",
       "\n",
       "    .dataframe tbody tr th {\n",
       "        vertical-align: top;\n",
       "    }\n",
       "\n",
       "    .dataframe thead th {\n",
       "        text-align: right;\n",
       "    }\n",
       "</style>\n",
       "<table border=\"1\" class=\"dataframe\">\n",
       "  <thead>\n",
       "    <tr style=\"text-align: right;\">\n",
       "      <th></th>\n",
       "      <th>Feature</th>\n",
       "      <th>KBest</th>\n",
       "      <th>LogRegRidge</th>\n",
       "      <th>XGB Classifier</th>\n",
       "      <th>Mean</th>\n",
       "    </tr>\n",
       "  </thead>\n",
       "  <tbody>\n",
       "    <tr>\n",
       "      <th>13</th>\n",
       "      <td>product_company</td>\n",
       "      <td>1.00</td>\n",
       "      <td>0.00</td>\n",
       "      <td>1.00</td>\n",
       "      <td>0.67</td>\n",
       "    </tr>\n",
       "    <tr>\n",
       "      <th>12</th>\n",
       "      <td>product_clothes</td>\n",
       "      <td>0.57</td>\n",
       "      <td>1.00</td>\n",
       "      <td>0.04</td>\n",
       "      <td>0.54</td>\n",
       "    </tr>\n",
       "    <tr>\n",
       "      <th>10</th>\n",
       "      <td>SV_IsMobile</td>\n",
       "      <td>0.58</td>\n",
       "      <td>0.54</td>\n",
       "      <td>0.07</td>\n",
       "      <td>0.40</td>\n",
       "    </tr>\n",
       "    <tr>\n",
       "      <th>1</th>\n",
       "      <td>IsBanner_click</td>\n",
       "      <td>0.16</td>\n",
       "      <td>0.90</td>\n",
       "      <td>0.05</td>\n",
       "      <td>0.37</td>\n",
       "    </tr>\n",
       "    <tr>\n",
       "      <th>14</th>\n",
       "      <td>product_sneakers</td>\n",
       "      <td>0.06</td>\n",
       "      <td>0.93</td>\n",
       "      <td>0.01</td>\n",
       "      <td>0.33</td>\n",
       "    </tr>\n",
       "    <tr>\n",
       "      <th>0</th>\n",
       "      <td>num_conversion</td>\n",
       "      <td>0.13</td>\n",
       "      <td>0.81</td>\n",
       "      <td>0.01</td>\n",
       "      <td>0.32</td>\n",
       "    </tr>\n",
       "    <tr>\n",
       "      <th>15</th>\n",
       "      <td>product_sports_nutrition</td>\n",
       "      <td>0.15</td>\n",
       "      <td>0.79</td>\n",
       "      <td>0.03</td>\n",
       "      <td>0.32</td>\n",
       "    </tr>\n",
       "    <tr>\n",
       "      <th>11</th>\n",
       "      <td>product_accessories</td>\n",
       "      <td>0.00</td>\n",
       "      <td>0.87</td>\n",
       "      <td>0.00</td>\n",
       "      <td>0.29</td>\n",
       "    </tr>\n",
       "    <tr>\n",
       "      <th>2</th>\n",
       "      <td>IsFirst_conversion</td>\n",
       "      <td>0.11</td>\n",
       "      <td>0.73</td>\n",
       "      <td>0.00</td>\n",
       "      <td>0.28</td>\n",
       "    </tr>\n",
       "    <tr>\n",
       "      <th>6</th>\n",
       "      <td>time_Hour</td>\n",
       "      <td>0.00</td>\n",
       "      <td>0.82</td>\n",
       "      <td>0.01</td>\n",
       "      <td>0.28</td>\n",
       "    </tr>\n",
       "    <tr>\n",
       "      <th>3</th>\n",
       "      <td>time_IsMorning</td>\n",
       "      <td>0.19</td>\n",
       "      <td>0.58</td>\n",
       "      <td>0.02</td>\n",
       "      <td>0.26</td>\n",
       "    </tr>\n",
       "    <tr>\n",
       "      <th>7</th>\n",
       "      <td>time_Day</td>\n",
       "      <td>0.00</td>\n",
       "      <td>0.76</td>\n",
       "      <td>0.00</td>\n",
       "      <td>0.25</td>\n",
       "    </tr>\n",
       "    <tr>\n",
       "      <th>8</th>\n",
       "      <td>time_Week_Day</td>\n",
       "      <td>0.00</td>\n",
       "      <td>0.76</td>\n",
       "      <td>0.00</td>\n",
       "      <td>0.25</td>\n",
       "    </tr>\n",
       "    <tr>\n",
       "      <th>9</th>\n",
       "      <td>time_Year_Month</td>\n",
       "      <td>0.00</td>\n",
       "      <td>0.74</td>\n",
       "      <td>0.00</td>\n",
       "      <td>0.25</td>\n",
       "    </tr>\n",
       "    <tr>\n",
       "      <th>4</th>\n",
       "      <td>time_IsDaylight</td>\n",
       "      <td>0.00</td>\n",
       "      <td>0.62</td>\n",
       "      <td>0.00</td>\n",
       "      <td>0.21</td>\n",
       "    </tr>\n",
       "    <tr>\n",
       "      <th>5</th>\n",
       "      <td>time_IsEvening</td>\n",
       "      <td>0.00</td>\n",
       "      <td>0.61</td>\n",
       "      <td>0.00</td>\n",
       "      <td>0.20</td>\n",
       "    </tr>\n",
       "  </tbody>\n",
       "</table>\n",
       "</div>"
      ],
      "text/plain": [
       "                     Feature  KBest  LogRegRidge  XGB Classifier  Mean\n",
       "13           product_company   1.00         0.00            1.00  0.67\n",
       "12           product_clothes   0.57         1.00            0.04  0.54\n",
       "10               SV_IsMobile   0.58         0.54            0.07  0.40\n",
       "1             IsBanner_click   0.16         0.90            0.05  0.37\n",
       "14          product_sneakers   0.06         0.93            0.01  0.33\n",
       "0             num_conversion   0.13         0.81            0.01  0.32\n",
       "15  product_sports_nutrition   0.15         0.79            0.03  0.32\n",
       "11       product_accessories   0.00         0.87            0.00  0.29\n",
       "2         IsFirst_conversion   0.11         0.73            0.00  0.28\n",
       "6                  time_Hour   0.00         0.82            0.01  0.28\n",
       "3             time_IsMorning   0.19         0.58            0.02  0.26\n",
       "7                   time_Day   0.00         0.76            0.00  0.25\n",
       "8              time_Week_Day   0.00         0.76            0.00  0.25\n",
       "9            time_Year_Month   0.00         0.74            0.00  0.25\n",
       "4            time_IsDaylight   0.00         0.62            0.00  0.21\n",
       "5             time_IsEvening   0.00         0.61            0.00  0.20"
      ]
     },
     "metadata": {},
     "output_type": "display_data"
    }
   ],
   "source": [
    "fi = Feat_Importance(stand_X, y, stand_X.columns)\n",
    "fi.feat_stats()\n",
    "fi_df = fi.stats_df()\n",
    "display(fi_df.sort_values(by=['Mean'], ascending=[False]))"
   ]
  },
  {
   "cell_type": "markdown",
   "metadata": {},
   "source": [
    "##### Remove obviously weak signs by the condition 'Mean'> 0.21"
   ]
  },
  {
   "cell_type": "code",
   "execution_count": 29,
   "metadata": {},
   "outputs": [
    {
     "data": {
      "text/plain": [
       "(497444, 14)"
      ]
     },
     "execution_count": 29,
     "metadata": {},
     "output_type": "execute_result"
    }
   ],
   "source": [
    "stand_X = stand_X[fi_df[fi_df['Mean'] > 0.21].Feature.values]\n",
    "stand_X.shape"
   ]
  },
  {
   "cell_type": "code",
   "execution_count": 30,
   "metadata": {},
   "outputs": [
    {
     "data": {
      "text/html": [
       "<div>\n",
       "<style scoped>\n",
       "    .dataframe tbody tr th:only-of-type {\n",
       "        vertical-align: middle;\n",
       "    }\n",
       "\n",
       "    .dataframe tbody tr th {\n",
       "        vertical-align: top;\n",
       "    }\n",
       "\n",
       "    .dataframe thead th {\n",
       "        text-align: right;\n",
       "    }\n",
       "</style>\n",
       "<table border=\"1\" class=\"dataframe\">\n",
       "  <thead>\n",
       "    <tr style=\"text-align: right;\">\n",
       "      <th></th>\n",
       "      <th>Feature</th>\n",
       "      <th>KBest</th>\n",
       "      <th>LogRegRidge</th>\n",
       "      <th>XGB Classifier</th>\n",
       "      <th>Mean</th>\n",
       "    </tr>\n",
       "  </thead>\n",
       "  <tbody>\n",
       "    <tr>\n",
       "      <th>11</th>\n",
       "      <td>product_company</td>\n",
       "      <td>1.00</td>\n",
       "      <td>0.00</td>\n",
       "      <td>1.00</td>\n",
       "      <td>0.67</td>\n",
       "    </tr>\n",
       "    <tr>\n",
       "      <th>10</th>\n",
       "      <td>product_clothes</td>\n",
       "      <td>0.57</td>\n",
       "      <td>1.00</td>\n",
       "      <td>0.03</td>\n",
       "      <td>0.53</td>\n",
       "    </tr>\n",
       "    <tr>\n",
       "      <th>8</th>\n",
       "      <td>SV_IsMobile</td>\n",
       "      <td>0.58</td>\n",
       "      <td>0.54</td>\n",
       "      <td>0.08</td>\n",
       "      <td>0.40</td>\n",
       "    </tr>\n",
       "    <tr>\n",
       "      <th>1</th>\n",
       "      <td>IsBanner_click</td>\n",
       "      <td>0.16</td>\n",
       "      <td>0.90</td>\n",
       "      <td>0.04</td>\n",
       "      <td>0.37</td>\n",
       "    </tr>\n",
       "    <tr>\n",
       "      <th>12</th>\n",
       "      <td>product_sneakers</td>\n",
       "      <td>0.06</td>\n",
       "      <td>0.93</td>\n",
       "      <td>0.01</td>\n",
       "      <td>0.33</td>\n",
       "    </tr>\n",
       "    <tr>\n",
       "      <th>0</th>\n",
       "      <td>num_conversion</td>\n",
       "      <td>0.13</td>\n",
       "      <td>0.81</td>\n",
       "      <td>0.01</td>\n",
       "      <td>0.32</td>\n",
       "    </tr>\n",
       "    <tr>\n",
       "      <th>13</th>\n",
       "      <td>product_sports_nutrition</td>\n",
       "      <td>0.15</td>\n",
       "      <td>0.79</td>\n",
       "      <td>0.03</td>\n",
       "      <td>0.32</td>\n",
       "    </tr>\n",
       "    <tr>\n",
       "      <th>3</th>\n",
       "      <td>time_IsMorning</td>\n",
       "      <td>0.19</td>\n",
       "      <td>0.65</td>\n",
       "      <td>0.02</td>\n",
       "      <td>0.29</td>\n",
       "    </tr>\n",
       "    <tr>\n",
       "      <th>9</th>\n",
       "      <td>product_accessories</td>\n",
       "      <td>0.00</td>\n",
       "      <td>0.87</td>\n",
       "      <td>0.00</td>\n",
       "      <td>0.29</td>\n",
       "    </tr>\n",
       "    <tr>\n",
       "      <th>2</th>\n",
       "      <td>IsFirst_conversion</td>\n",
       "      <td>0.11</td>\n",
       "      <td>0.73</td>\n",
       "      <td>0.00</td>\n",
       "      <td>0.28</td>\n",
       "    </tr>\n",
       "    <tr>\n",
       "      <th>4</th>\n",
       "      <td>time_Hour</td>\n",
       "      <td>0.00</td>\n",
       "      <td>0.73</td>\n",
       "      <td>0.01</td>\n",
       "      <td>0.25</td>\n",
       "    </tr>\n",
       "    <tr>\n",
       "      <th>5</th>\n",
       "      <td>time_Day</td>\n",
       "      <td>0.00</td>\n",
       "      <td>0.76</td>\n",
       "      <td>0.00</td>\n",
       "      <td>0.25</td>\n",
       "    </tr>\n",
       "    <tr>\n",
       "      <th>6</th>\n",
       "      <td>time_Week_Day</td>\n",
       "      <td>0.00</td>\n",
       "      <td>0.76</td>\n",
       "      <td>0.00</td>\n",
       "      <td>0.25</td>\n",
       "    </tr>\n",
       "    <tr>\n",
       "      <th>7</th>\n",
       "      <td>time_Year_Month</td>\n",
       "      <td>0.00</td>\n",
       "      <td>0.74</td>\n",
       "      <td>0.00</td>\n",
       "      <td>0.25</td>\n",
       "    </tr>\n",
       "  </tbody>\n",
       "</table>\n",
       "</div>"
      ],
      "text/plain": [
       "                     Feature  KBest  LogRegRidge  XGB Classifier  Mean\n",
       "11           product_company   1.00         0.00            1.00  0.67\n",
       "10           product_clothes   0.57         1.00            0.03  0.53\n",
       "8                SV_IsMobile   0.58         0.54            0.08  0.40\n",
       "1             IsBanner_click   0.16         0.90            0.04  0.37\n",
       "12          product_sneakers   0.06         0.93            0.01  0.33\n",
       "0             num_conversion   0.13         0.81            0.01  0.32\n",
       "13  product_sports_nutrition   0.15         0.79            0.03  0.32\n",
       "3             time_IsMorning   0.19         0.65            0.02  0.29\n",
       "9        product_accessories   0.00         0.87            0.00  0.29\n",
       "2         IsFirst_conversion   0.11         0.73            0.00  0.28\n",
       "4                  time_Hour   0.00         0.73            0.01  0.25\n",
       "5                   time_Day   0.00         0.76            0.00  0.25\n",
       "6              time_Week_Day   0.00         0.76            0.00  0.25\n",
       "7            time_Year_Month   0.00         0.74            0.00  0.25"
      ]
     },
     "metadata": {},
     "output_type": "display_data"
    }
   ],
   "source": [
    "fi = Feat_Importance(stand_X, y, stand_X.columns)\n",
    "fi.feat_stats()\n",
    "fi_df = fi.stats_df()\n",
    "display(fi_df.sort_values(by=['Mean'], ascending=[False]))"
   ]
  },
  {
   "cell_type": "code",
   "execution_count": 31,
   "metadata": {},
   "outputs": [
    {
     "name": "stdout",
     "output_type": "stream",
     "text": [
      "BernoulliNB\n",
      "------ accuracy ------\n",
      " 0.7125789029309675\n",
      "------ roc_auc_score ------\n",
      " 0.7124965662987421\n",
      "\n",
      "\n",
      "KNeighborsClassifier\n",
      "------ accuracy ------\n",
      " 0.728647627216318\n",
      "------ roc_auc_score ------\n",
      " 0.7286168439490048\n",
      "\n",
      "\n",
      "RandomForestClassifier\n",
      "------ accuracy ------\n",
      " 0.7201509039495021\n",
      "------ roc_auc_score ------\n",
      " 0.7201268781739323\n",
      "\n",
      "\n"
     ]
    }
   ],
   "source": [
    "fi.simple_test()"
   ]
  },
  {
   "cell_type": "code",
   "execution_count": 32,
   "metadata": {},
   "outputs": [
    {
     "data": {
      "text/plain": [
       "<matplotlib.axes._subplots.AxesSubplot at 0x7f26415c9860>"
      ]
     },
     "execution_count": 32,
     "metadata": {},
     "output_type": "execute_result"
    },
    {
     "data": {
      "image/png": "[encoded data removed]",
      "text/plain": [
       "<Figure size 720x576 with 2 Axes>"
      ]
     },
     "metadata": {
      "needs_background": "light"
     },
     "output_type": "display_data"
    }
   ],
   "source": [
    "plt.figure(figsize=(10, 8))\n",
    "sns.heatmap(stand_X.corr(), xticklabels=stand_X.columns, yticklabels=stand_X.columns)"
   ]
  },
  {
   "cell_type": "markdown",
   "metadata": {},
   "source": [
    "### Seaborn correlation matrix\n",
    "\n",
    "The correlation matrix looks critical.\n",
    "- After analyzing the correlation of the pandas dataframe object and the table of the influence of attributes on the model, remove features with high correlation values."
   ]
  },
  {
   "cell_type": "code",
   "execution_count": 33,
   "metadata": {},
   "outputs": [],
   "source": [
    "stand_X = stand_X.drop(['IsFirst_conversion'], axis=1)"
   ]
  },
  {
   "cell_type": "markdown",
   "metadata": {},
   "source": [
    "### There is no critical correlation in the current feature set."
   ]
  },
  {
   "cell_type": "code",
   "execution_count": 34,
   "metadata": {
    "scrolled": true
   },
   "outputs": [
    {
     "data": {
      "text/plain": [
       "<matplotlib.axes._subplots.AxesSubplot at 0x7f276863fef0>"
      ]
     },
     "execution_count": 34,
     "metadata": {},
     "output_type": "execute_result"
    },
    {
     "data": {
      "image/png": "[encoded data removed]",
      "text/plain": [
       "<Figure size 576x576 with 2 Axes>"
      ]
     },
     "metadata": {
      "needs_background": "light"
     },
     "output_type": "display_data"
    }
   ],
   "source": [
    "plt.figure(figsize=(8, 8))\n",
    "sns.heatmap(stand_X.corr(), xticklabels=stand_X.columns, yticklabels=stand_X.columns)"
   ]
  },
  {
   "cell_type": "markdown",
   "metadata": {},
   "source": [
    "### Test the current feature set."
   ]
  },
  {
   "cell_type": "code",
   "execution_count": 35,
   "metadata": {},
   "outputs": [
    {
     "data": {
      "text/html": [
       "<div>\n",
       "<style scoped>\n",
       "    .dataframe tbody tr th:only-of-type {\n",
       "        vertical-align: middle;\n",
       "    }\n",
       "\n",
       "    .dataframe tbody tr th {\n",
       "        vertical-align: top;\n",
       "    }\n",
       "\n",
       "    .dataframe thead th {\n",
       "        text-align: right;\n",
       "    }\n",
       "</style>\n",
       "<table border=\"1\" class=\"dataframe\">\n",
       "  <thead>\n",
       "    <tr style=\"text-align: right;\">\n",
       "      <th></th>\n",
       "      <th>Feature</th>\n",
       "      <th>KBest</th>\n",
       "      <th>LogRegRidge</th>\n",
       "      <th>XGB Classifier</th>\n",
       "      <th>Mean</th>\n",
       "    </tr>\n",
       "  </thead>\n",
       "  <tbody>\n",
       "    <tr>\n",
       "      <th>10</th>\n",
       "      <td>product_company</td>\n",
       "      <td>1.00</td>\n",
       "      <td>0.00</td>\n",
       "      <td>1.00</td>\n",
       "      <td>0.67</td>\n",
       "    </tr>\n",
       "    <tr>\n",
       "      <th>9</th>\n",
       "      <td>product_clothes</td>\n",
       "      <td>0.57</td>\n",
       "      <td>1.00</td>\n",
       "      <td>0.03</td>\n",
       "      <td>0.53</td>\n",
       "    </tr>\n",
       "    <tr>\n",
       "      <th>7</th>\n",
       "      <td>SV_IsMobile</td>\n",
       "      <td>0.58</td>\n",
       "      <td>0.54</td>\n",
       "      <td>0.08</td>\n",
       "      <td>0.40</td>\n",
       "    </tr>\n",
       "    <tr>\n",
       "      <th>1</th>\n",
       "      <td>IsBanner_click</td>\n",
       "      <td>0.16</td>\n",
       "      <td>0.90</td>\n",
       "      <td>0.04</td>\n",
       "      <td>0.37</td>\n",
       "    </tr>\n",
       "    <tr>\n",
       "      <th>11</th>\n",
       "      <td>product_sneakers</td>\n",
       "      <td>0.06</td>\n",
       "      <td>0.93</td>\n",
       "      <td>0.01</td>\n",
       "      <td>0.33</td>\n",
       "    </tr>\n",
       "    <tr>\n",
       "      <th>0</th>\n",
       "      <td>num_conversion</td>\n",
       "      <td>0.13</td>\n",
       "      <td>0.83</td>\n",
       "      <td>0.01</td>\n",
       "      <td>0.32</td>\n",
       "    </tr>\n",
       "    <tr>\n",
       "      <th>12</th>\n",
       "      <td>product_sports_nutrition</td>\n",
       "      <td>0.15</td>\n",
       "      <td>0.79</td>\n",
       "      <td>0.02</td>\n",
       "      <td>0.32</td>\n",
       "    </tr>\n",
       "    <tr>\n",
       "      <th>2</th>\n",
       "      <td>time_IsMorning</td>\n",
       "      <td>0.19</td>\n",
       "      <td>0.65</td>\n",
       "      <td>0.02</td>\n",
       "      <td>0.29</td>\n",
       "    </tr>\n",
       "    <tr>\n",
       "      <th>8</th>\n",
       "      <td>product_accessories</td>\n",
       "      <td>0.00</td>\n",
       "      <td>0.87</td>\n",
       "      <td>0.00</td>\n",
       "      <td>0.29</td>\n",
       "    </tr>\n",
       "    <tr>\n",
       "      <th>3</th>\n",
       "      <td>time_Hour</td>\n",
       "      <td>0.00</td>\n",
       "      <td>0.73</td>\n",
       "      <td>0.01</td>\n",
       "      <td>0.25</td>\n",
       "    </tr>\n",
       "    <tr>\n",
       "      <th>4</th>\n",
       "      <td>time_Day</td>\n",
       "      <td>0.00</td>\n",
       "      <td>0.76</td>\n",
       "      <td>0.00</td>\n",
       "      <td>0.25</td>\n",
       "    </tr>\n",
       "    <tr>\n",
       "      <th>5</th>\n",
       "      <td>time_Week_Day</td>\n",
       "      <td>0.00</td>\n",
       "      <td>0.76</td>\n",
       "      <td>0.00</td>\n",
       "      <td>0.25</td>\n",
       "    </tr>\n",
       "    <tr>\n",
       "      <th>6</th>\n",
       "      <td>time_Year_Month</td>\n",
       "      <td>0.00</td>\n",
       "      <td>0.74</td>\n",
       "      <td>0.00</td>\n",
       "      <td>0.25</td>\n",
       "    </tr>\n",
       "  </tbody>\n",
       "</table>\n",
       "</div>"
      ],
      "text/plain": [
       "                     Feature  KBest  LogRegRidge  XGB Classifier  Mean\n",
       "10           product_company   1.00         0.00            1.00  0.67\n",
       "9            product_clothes   0.57         1.00            0.03  0.53\n",
       "7                SV_IsMobile   0.58         0.54            0.08  0.40\n",
       "1             IsBanner_click   0.16         0.90            0.04  0.37\n",
       "11          product_sneakers   0.06         0.93            0.01  0.33\n",
       "0             num_conversion   0.13         0.83            0.01  0.32\n",
       "12  product_sports_nutrition   0.15         0.79            0.02  0.32\n",
       "2             time_IsMorning   0.19         0.65            0.02  0.29\n",
       "8        product_accessories   0.00         0.87            0.00  0.29\n",
       "3                  time_Hour   0.00         0.73            0.01  0.25\n",
       "4                   time_Day   0.00         0.76            0.00  0.25\n",
       "5              time_Week_Day   0.00         0.76            0.00  0.25\n",
       "6            time_Year_Month   0.00         0.74            0.00  0.25"
      ]
     },
     "metadata": {},
     "output_type": "display_data"
    }
   ],
   "source": [
    "fi = Feat_Importance(stand_X, y, stand_X.columns)\n",
    "fi.feat_stats()\n",
    "fi_df = fi.stats_df()\n",
    "display(fi_df.sort_values(by=['Mean'], ascending=[False]))"
   ]
  },
  {
   "cell_type": "code",
   "execution_count": 36,
   "metadata": {},
   "outputs": [
    {
     "name": "stdout",
     "output_type": "stream",
     "text": [
      "BernoulliNB\n",
      "------ accuracy ------\n",
      " 0.7193266949890775\n",
      "------ roc_auc_score ------\n",
      " 0.7192439748390713\n",
      "\n",
      "\n",
      "KNeighborsClassifier\n",
      "------ accuracy ------\n",
      " 0.7272337403004677\n",
      "------ roc_auc_score ------\n",
      " 0.7272030663470379\n",
      "\n",
      "\n",
      "RandomForestClassifier\n",
      "------ accuracy ------\n",
      " 0.7197287481405041\n",
      "------ roc_auc_score ------\n",
      " 0.719704895419604\n",
      "\n",
      "\n"
     ]
    }
   ],
   "source": [
    "fi.simple_test()"
   ]
  },
  {
   "cell_type": "markdown",
   "metadata": {},
   "source": [
    "### Split into test and validation samples"
   ]
  },
  {
   "cell_type": "code",
   "execution_count": 37,
   "metadata": {},
   "outputs": [],
   "source": [
    "x_train, x_valid, y_train, y_valid = train_test_split(stand_X, y, test_size=0.3, random_state=random_state)"
   ]
  },
  {
   "cell_type": "markdown",
   "metadata": {},
   "source": [
    "\n",
    "### Test the current set of features on effective models with the selection of hyperparameters."
   ]
  },
  {
   "cell_type": "markdown",
   "metadata": {},
   "source": [
    "* Random forest"
   ]
  },
  {
   "cell_type": "code",
   "execution_count": 38,
   "metadata": {},
   "outputs": [
    {
     "name": "stdout",
     "output_type": "stream",
     "text": [
      "RandomForestClassifier(bootstrap=True, ccp_alpha=0.0, class_weight=None,\n",
      "                       criterion='gini', max_depth=None, max_features='auto',\n",
      "                       max_leaf_nodes=None, max_samples=None,\n",
      "                       min_impurity_decrease=0.0, min_impurity_split=None,\n",
      "                       min_samples_leaf=1, min_samples_split=2,\n",
      "                       min_weight_fraction_leaf=0.0, n_estimators=100,\n",
      "                       n_jobs=None, oob_score=False, random_state=None,\n",
      "                       verbose=0, warm_start=False)\n",
      "best score / best params:  0.7591941644409983 {'max_depth': 9, 'max_features': 0.25, 'n_estimators': 30}\n",
      "classification_report: \n",
      "               precision    recall  f1-score   support\n",
      "\n",
      "           0       0.71      0.78      0.74     67329\n",
      "           1       0.81      0.74      0.77     81905\n",
      "\n",
      "    accuracy                           0.76    149234\n",
      "   macro avg       0.76      0.76      0.76    149234\n",
      "weighted avg       0.76      0.76      0.76    149234\n",
      "\n",
      "accuracy_score:  0.7577897798088907\n",
      "roc_auc_score:  0.7600850751374617\n"
     ]
    }
   ],
   "source": [
    "r_for = RandomForestClassifier()\n",
    "print(r_for)\n",
    "for_params = {'max_depth': np.arange(4, 10), 'max_features': np.arange(0.25, 0.5, 1), 'n_estimators': [30, 50, 60]}\n",
    "for_grid = GridSearchCV(r_for, for_params, cv=2, n_jobs=-1)\n",
    "for_grid.fit(x_train, y_train)\n",
    "print('best score / best params: ', for_grid.best_score_, for_grid.best_params_)\n",
    "y_pred = for_grid.predict(x_valid)\n",
    "print('classification_report: \\n', metrics.classification_report(y_pred, y_valid))\n",
    "print('accuracy_score: ', metrics.accuracy_score(y_pred, y_valid))\n",
    "print('roc_auc_score: ', metrics.roc_auc_score(y_pred, y_valid))"
   ]
  },
  {
   "cell_type": "markdown",
   "metadata": {},
   "source": [
    "* Logistic regression"
   ]
  },
  {
   "cell_type": "code",
   "execution_count": 39,
   "metadata": {},
   "outputs": [
    {
     "name": "stdout",
     "output_type": "stream",
     "text": [
      "best score / best params:  0.7304930932483271 {'C': 0.1, 'penalty': 'l2'}\n",
      "classification_report: \n",
      "               precision    recall  f1-score   support\n",
      "\n",
      "           0       0.69      0.75      0.72     68970\n",
      "           1       0.77      0.71      0.74     80264\n",
      "\n",
      "    accuracy                           0.73    149234\n",
      "   macro avg       0.73      0.73      0.73    149234\n",
      "weighted avg       0.73      0.73      0.73    149234\n",
      "\n",
      "accuracy_score:  0.7292239034000295\n",
      "roc_auc_score:  0.7303994783720898\n"
     ]
    }
   ],
   "source": [
    "log_r = LogisticRegression()\n",
    "grid_values = {'penalty': ['l2'], 'C': [0.0001, 0.001, 0.01, 0.1]}\n",
    "lr_grid = GridSearchCV(log_r, param_grid=grid_values, cv=2, n_jobs=-1)\n",
    "lr_grid.fit(x_train, y_train)\n",
    "print('best score / best params: ', lr_grid.best_score_, lr_grid.best_params_)\n",
    "y_pred = lr_grid.predict(x_valid)\n",
    "print('classification_report: \\n', metrics.classification_report(y_pred, y_valid))\n",
    "print('accuracy_score: ', metrics.accuracy_score(y_pred, y_valid))\n",
    "print('roc_auc_score: ', metrics.roc_auc_score(y_pred, y_valid))"
   ]
  },
  {
   "cell_type": "markdown",
   "metadata": {},
   "source": [
    "* Gradient boosting"
   ]
  },
  {
   "cell_type": "code",
   "execution_count": 40,
   "metadata": {},
   "outputs": [
    {
     "name": "stdout",
     "output_type": "stream",
     "text": [
      "Fitting 2 folds for each of 8 candidates, totalling 16 fits\n"
     ]
    },
    {
     "name": "stderr",
     "output_type": "stream",
     "text": [
      "[Parallel(n_jobs=-1)]: Using backend LokyBackend with 4 concurrent workers.\n",
      "[Parallel(n_jobs=-1)]: Done  16 out of  16 | elapsed:  5.2min finished\n"
     ]
    },
    {
     "name": "stdout",
     "output_type": "stream",
     "text": [
      "best score / best params:  0.7659515809425347 {'learning_rate': 0.05, 'max_depth': 5, 'n_estimators': 300}\n",
      "classification_report: \n",
      "               precision    recall  f1-score   support\n",
      "\n",
      "           0       0.72      0.79      0.76     68063\n",
      "           1       0.81      0.75      0.78     81171\n",
      "\n",
      "    accuracy                           0.77    149234\n",
      "   macro avg       0.77      0.77      0.77    149234\n",
      "weighted avg       0.77      0.77      0.77    149234\n",
      "\n",
      "accuracy_score:  0.7662731013039924\n",
      "roc_auc_score:  0.7681749224444703\n"
     ]
    }
   ],
   "source": [
    "xgb_m = XGBClassifier()\n",
    "xgb_params = [\n",
    "    {\"n_estimators\": [300, 350],\n",
    "     \"max_depth\": [3,  5],\n",
    "     \"learning_rate\": [0.01, 0.05]}\n",
    "]\n",
    "xgb_grid = GridSearchCV(xgb_m, xgb_params, cv=2, refit=True, verbose=1, n_jobs=-1)\n",
    "xgb_grid.fit(x_train, y_train)\n",
    "print('best score / best params: ', xgb_grid.best_score_, xgb_grid.best_params_)\n",
    "y_pred = xgb_grid.predict(x_valid)\n",
    "print('classification_report: \\n', metrics.classification_report(y_pred, y_valid))\n",
    "print('accuracy_score: ', metrics.accuracy_score(y_pred, y_valid))\n",
    "print('roc_auc_score: ', metrics.roc_auc_score(y_pred, y_valid))"
   ]
  },
  {
   "cell_type": "markdown",
   "metadata": {},
   "source": [
    "## Conclusions\n",
    "\n",
    "Enhanced sample clustering. The goal is to blur product_company in one cluster."
   ]
  },
  {
   "cell_type": "code",
   "execution_count": 41,
   "metadata": {},
   "outputs": [
    {
     "name": "stdout",
     "output_type": "stream",
     "text": [
      "[[     0 117247]\n",
      " [     1 163487]\n",
      " [     2 216710]]\n"
     ]
    }
   ],
   "source": [
    "cluster_stand_df = stand_X\n",
    "cluster_stand_df['target'] = preprocessing.scale(y)\n",
    "from sklearn.cluster import KMeans\n",
    "kmeans = KMeans(n_clusters=3, random_state=random_state).fit(cluster_stand_df)\n",
    "unique, counts = np.unique(kmeans.labels_, return_counts=True)\n",
    "print(np.asarray((unique, counts)).T)"
   ]
  },
  {
   "cell_type": "code",
   "execution_count": 42,
   "metadata": {},
   "outputs": [],
   "source": [
    "cluster_df = X[[i for i in stand_X.columns if i != 'target']]\n",
    "cluster_df['target'] = y\n",
    "cluster_df['Cluster'] = kmeans.labels_ # 497444"
   ]
  },
  {
   "cell_type": "code",
   "execution_count": 43,
   "metadata": {},
   "outputs": [
    {
     "data": {
      "text/plain": [
       "2    0.435647\n",
       "1    0.328654\n",
       "0    0.235699\n",
       "Name: Cluster, dtype: float64"
      ]
     },
     "execution_count": 43,
     "metadata": {},
     "output_type": "execute_result"
    }
   ],
   "source": [
    "cluster_df['Cluster'].value_counts(normalize=True)"
   ]
  },
  {
   "cell_type": "markdown",
   "metadata": {},
   "source": [
    "* Cluster 3 - customer share 23.53%. The share of “buying” customers is 0.69. Customers buying product_clothes and most often clicking on the banner.\n",
    "* Cluster 1 - customer share 32.85%. The proportion of \"buying\" customers is 0.578. The most conversions. The largest share of desktop users.\n",
    "* Cluster 0 - customer share 43.61%. The share of \"buying\" customers is 0.315. Customers in the categories product_accessories, product_company, product_sports_nutrition. Least click and order products. The target audience. The largest share of \"mobile\" users. Perhaps the banner is not very attractive in the mobile version."
   ]
  },
  {
   "cell_type": "code",
   "execution_count": 44,
   "metadata": {},
   "outputs": [
    {
     "data": {
      "text/html": [
       "<div>\n",
       "<style scoped>\n",
       "    .dataframe tbody tr th:only-of-type {\n",
       "        vertical-align: middle;\n",
       "    }\n",
       "\n",
       "    .dataframe tbody tr th {\n",
       "        vertical-align: top;\n",
       "    }\n",
       "\n",
       "    .dataframe thead th {\n",
       "        text-align: right;\n",
       "    }\n",
       "</style>\n",
       "<table border=\"1\" class=\"dataframe\">\n",
       "  <thead>\n",
       "    <tr style=\"text-align: right;\">\n",
       "      <th></th>\n",
       "      <th>num_conversion</th>\n",
       "      <th>IsBanner_click</th>\n",
       "      <th>time_IsMorning</th>\n",
       "      <th>time_Hour</th>\n",
       "      <th>time_Day</th>\n",
       "      <th>time_Week_Day</th>\n",
       "      <th>time_Year_Month</th>\n",
       "      <th>SV_IsMobile</th>\n",
       "      <th>product_accessories</th>\n",
       "      <th>product_clothes</th>\n",
       "      <th>product_company</th>\n",
       "      <th>product_sneakers</th>\n",
       "      <th>product_sports_nutrition</th>\n",
       "      <th>target</th>\n",
       "    </tr>\n",
       "    <tr>\n",
       "      <th>Cluster</th>\n",
       "      <th></th>\n",
       "      <th></th>\n",
       "      <th></th>\n",
       "      <th></th>\n",
       "      <th></th>\n",
       "      <th></th>\n",
       "      <th></th>\n",
       "      <th></th>\n",
       "      <th></th>\n",
       "      <th></th>\n",
       "      <th></th>\n",
       "      <th></th>\n",
       "      <th></th>\n",
       "      <th></th>\n",
       "    </tr>\n",
       "  </thead>\n",
       "  <tbody>\n",
       "    <tr>\n",
       "      <th>1</th>\n",
       "      <td>2.503153</td>\n",
       "      <td>0.437087</td>\n",
       "      <td>0.173145</td>\n",
       "      <td>12.553781</td>\n",
       "      <td>15.733379</td>\n",
       "      <td>3.991394</td>\n",
       "      <td>201903.222874</td>\n",
       "      <td>0.507117</td>\n",
       "      <td>0.000000</td>\n",
       "      <td>1.0</td>\n",
       "      <td>0.000000</td>\n",
       "      <td>0.0</td>\n",
       "      <td>0.000000</td>\n",
       "      <td>0.689443</td>\n",
       "    </tr>\n",
       "    <tr>\n",
       "      <th>0</th>\n",
       "      <td>2.500661</td>\n",
       "      <td>0.440446</td>\n",
       "      <td>0.185830</td>\n",
       "      <td>12.523553</td>\n",
       "      <td>15.711404</td>\n",
       "      <td>3.992042</td>\n",
       "      <td>201903.238812</td>\n",
       "      <td>0.609849</td>\n",
       "      <td>0.000000</td>\n",
       "      <td>0.0</td>\n",
       "      <td>0.000000</td>\n",
       "      <td>1.0</td>\n",
       "      <td>0.000000</td>\n",
       "      <td>0.577576</td>\n",
       "    </tr>\n",
       "    <tr>\n",
       "      <th>2</th>\n",
       "      <td>2.335928</td>\n",
       "      <td>0.369960</td>\n",
       "      <td>0.219288</td>\n",
       "      <td>12.445392</td>\n",
       "      <td>15.684938</td>\n",
       "      <td>3.983240</td>\n",
       "      <td>201903.222934</td>\n",
       "      <td>0.656149</td>\n",
       "      <td>0.426049</td>\n",
       "      <td>0.0</td>\n",
       "      <td>0.240898</td>\n",
       "      <td>0.0</td>\n",
       "      <td>0.333053</td>\n",
       "      <td>0.315112</td>\n",
       "    </tr>\n",
       "  </tbody>\n",
       "</table>\n",
       "</div>"
      ],
      "text/plain": [
       "         num_conversion  IsBanner_click  time_IsMorning  time_Hour   time_Day  time_Week_Day  time_Year_Month  SV_IsMobile  product_accessories  product_clothes  product_company  product_sneakers  product_sports_nutrition    target\n",
       "Cluster                                                                                                                                                                                                                                \n",
       "1              2.503153        0.437087        0.173145  12.553781  15.733379       3.991394    201903.222874     0.507117             0.000000              1.0         0.000000               0.0                  0.000000  0.689443\n",
       "0              2.500661        0.440446        0.185830  12.523553  15.711404       3.992042    201903.238812     0.609849             0.000000              0.0         0.000000               1.0                  0.000000  0.577576\n",
       "2              2.335928        0.369960        0.219288  12.445392  15.684938       3.983240    201903.222934     0.656149             0.426049              0.0         0.240898               0.0                  0.333053  0.315112"
      ]
     },
     "execution_count": 44,
     "metadata": {},
     "output_type": "execute_result"
    }
   ],
   "source": [
    "cluster_df.groupby('Cluster').mean().sort_values(by=['target'], ascending=False)"
   ]
  },
  {
   "cell_type": "code",
   "execution_count": 45,
   "metadata": {},
   "outputs": [
    {
     "data": {
      "image/png": "[encoded data removed]",
      "text/plain": [
       "<Figure size 432x288 with 1 Axes>"
      ]
     },
     "metadata": {
      "needs_background": "light"
     },
     "output_type": "display_data"
    }
   ],
   "source": [
    "ax = sns.violinplot(x='target', y='Cluster',\n",
    "                         data=cluster_df, height=4, aspect=.7)\n",
    "plt.show();"
   ]
  },
  {
   "cell_type": "code",
   "execution_count": 46,
   "metadata": {},
   "outputs": [
    {
     "data": {
      "text/html": [
       "<div>\n",
       "<style scoped>\n",
       "    .dataframe tbody tr th:only-of-type {\n",
       "        vertical-align: middle;\n",
       "    }\n",
       "\n",
       "    .dataframe tbody tr th {\n",
       "        vertical-align: top;\n",
       "    }\n",
       "\n",
       "    .dataframe thead th {\n",
       "        text-align: right;\n",
       "    }\n",
       "</style>\n",
       "<table border=\"1\" class=\"dataframe\">\n",
       "  <thead>\n",
       "    <tr style=\"text-align: right;\">\n",
       "      <th></th>\n",
       "      <th>Feature</th>\n",
       "      <th>KBest</th>\n",
       "      <th>LogRegRidge</th>\n",
       "      <th>XGB Classifier</th>\n",
       "      <th>Mean</th>\n",
       "    </tr>\n",
       "  </thead>\n",
       "  <tbody>\n",
       "    <tr>\n",
       "      <th>10</th>\n",
       "      <td>product_company</td>\n",
       "      <td>1.00</td>\n",
       "      <td>0.00</td>\n",
       "      <td>1.00</td>\n",
       "      <td>0.67</td>\n",
       "    </tr>\n",
       "    <tr>\n",
       "      <th>9</th>\n",
       "      <td>product_clothes</td>\n",
       "      <td>0.57</td>\n",
       "      <td>1.00</td>\n",
       "      <td>0.03</td>\n",
       "      <td>0.53</td>\n",
       "    </tr>\n",
       "    <tr>\n",
       "      <th>7</th>\n",
       "      <td>SV_IsMobile</td>\n",
       "      <td>0.58</td>\n",
       "      <td>0.54</td>\n",
       "      <td>0.08</td>\n",
       "      <td>0.40</td>\n",
       "    </tr>\n",
       "    <tr>\n",
       "      <th>1</th>\n",
       "      <td>IsBanner_click</td>\n",
       "      <td>0.16</td>\n",
       "      <td>0.90</td>\n",
       "      <td>0.04</td>\n",
       "      <td>0.37</td>\n",
       "    </tr>\n",
       "    <tr>\n",
       "      <th>11</th>\n",
       "      <td>product_sneakers</td>\n",
       "      <td>0.06</td>\n",
       "      <td>0.93</td>\n",
       "      <td>0.01</td>\n",
       "      <td>0.33</td>\n",
       "    </tr>\n",
       "    <tr>\n",
       "      <th>0</th>\n",
       "      <td>num_conversion</td>\n",
       "      <td>0.13</td>\n",
       "      <td>0.83</td>\n",
       "      <td>0.01</td>\n",
       "      <td>0.32</td>\n",
       "    </tr>\n",
       "    <tr>\n",
       "      <th>12</th>\n",
       "      <td>product_sports_nutrition</td>\n",
       "      <td>0.15</td>\n",
       "      <td>0.79</td>\n",
       "      <td>0.02</td>\n",
       "      <td>0.32</td>\n",
       "    </tr>\n",
       "    <tr>\n",
       "      <th>2</th>\n",
       "      <td>time_IsMorning</td>\n",
       "      <td>0.19</td>\n",
       "      <td>0.65</td>\n",
       "      <td>0.02</td>\n",
       "      <td>0.29</td>\n",
       "    </tr>\n",
       "    <tr>\n",
       "      <th>8</th>\n",
       "      <td>product_accessories</td>\n",
       "      <td>0.00</td>\n",
       "      <td>0.87</td>\n",
       "      <td>0.00</td>\n",
       "      <td>0.29</td>\n",
       "    </tr>\n",
       "    <tr>\n",
       "      <th>3</th>\n",
       "      <td>time_Hour</td>\n",
       "      <td>0.00</td>\n",
       "      <td>0.73</td>\n",
       "      <td>0.01</td>\n",
       "      <td>0.25</td>\n",
       "    </tr>\n",
       "    <tr>\n",
       "      <th>4</th>\n",
       "      <td>time_Day</td>\n",
       "      <td>0.00</td>\n",
       "      <td>0.76</td>\n",
       "      <td>0.00</td>\n",
       "      <td>0.25</td>\n",
       "    </tr>\n",
       "    <tr>\n",
       "      <th>5</th>\n",
       "      <td>time_Week_Day</td>\n",
       "      <td>0.00</td>\n",
       "      <td>0.76</td>\n",
       "      <td>0.00</td>\n",
       "      <td>0.25</td>\n",
       "    </tr>\n",
       "    <tr>\n",
       "      <th>6</th>\n",
       "      <td>time_Year_Month</td>\n",
       "      <td>0.00</td>\n",
       "      <td>0.74</td>\n",
       "      <td>0.00</td>\n",
       "      <td>0.25</td>\n",
       "    </tr>\n",
       "  </tbody>\n",
       "</table>\n",
       "</div>"
      ],
      "text/plain": [
       "                     Feature  KBest  LogRegRidge  XGB Classifier  Mean\n",
       "10           product_company   1.00         0.00            1.00  0.67\n",
       "9            product_clothes   0.57         1.00            0.03  0.53\n",
       "7                SV_IsMobile   0.58         0.54            0.08  0.40\n",
       "1             IsBanner_click   0.16         0.90            0.04  0.37\n",
       "11          product_sneakers   0.06         0.93            0.01  0.33\n",
       "0             num_conversion   0.13         0.83            0.01  0.32\n",
       "12  product_sports_nutrition   0.15         0.79            0.02  0.32\n",
       "2             time_IsMorning   0.19         0.65            0.02  0.29\n",
       "8        product_accessories   0.00         0.87            0.00  0.29\n",
       "3                  time_Hour   0.00         0.73            0.01  0.25\n",
       "4                   time_Day   0.00         0.76            0.00  0.25\n",
       "5              time_Week_Day   0.00         0.76            0.00  0.25\n",
       "6            time_Year_Month   0.00         0.74            0.00  0.25"
      ]
     },
     "metadata": {},
     "output_type": "display_data"
    }
   ],
   "source": [
    "display(fi_df.sort_values(by=['Mean'], ascending=[False]))"
   ]
  },
  {
   "cell_type": "code",
   "execution_count": 47,
   "metadata": {},
   "outputs": [
    {
     "data": {
      "image/png": "[encoded data removed]",
      "text/plain": [
       "<Figure size 432x288 with 1 Axes>"
      ]
     },
     "metadata": {
      "needs_background": "light"
     },
     "output_type": "display_data"
    }
   ],
   "source": [
    "ax = sns.violinplot(x='target', y='num_conversion',\n",
    "                         data=cluster_df[cluster_df['num_conversion'] <= 10], height=4, aspect=.7)\n",
    "plt.show();"
   ]
  },
  {
   "cell_type": "markdown",
   "metadata": {},
   "source": [
    "- IsBanner_click - people who have ever clicked on a banner (without an order) are more likely to make a purchase.\n",
    "- time_IsMorning - in the morning, shopping activity is low."
   ]
  },
  {
   "cell_type": "code",
   "execution_count": 48,
   "metadata": {},
   "outputs": [
    {
     "name": "stdout",
     "output_type": "stream",
     "text": [
      "IsBanner_click\n"
     ]
    },
    {
     "data": {
      "image/png": "[encoded data removed]",
      "text/plain": [
       "<Figure size 432x216 with 1 Axes>"
      ]
     },
     "metadata": {
      "needs_background": "light"
     },
     "output_type": "display_data"
    },
    {
     "name": "stdout",
     "output_type": "stream",
     "text": [
      "time_IsMorning\n"
     ]
    },
    {
     "data": {
      "image/png": "[encoded data removed]",
      "text/plain": [
       "<Figure size 432x216 with 1 Axes>"
      ]
     },
     "metadata": {
      "needs_background": "light"
     },
     "output_type": "display_data"
    },
    {
     "name": "stdout",
     "output_type": "stream",
     "text": [
      "SV_IsMobile\n"
     ]
    },
    {
     "data": {
      "image/png": "[encoded data removed]",
      "text/plain": [
       "<Figure size 432x216 with 1 Axes>"
      ]
     },
     "metadata": {
      "needs_background": "light"
     },
     "output_type": "display_data"
    }
   ],
   "source": [
    "feat = [f for f in cluster_df.columns if 'Is' in f]\n",
    "for i in feat:\n",
    "    print(i)\n",
    "    plt.figure()\n",
    "    tmp = cluster_df[cluster_df[i] == 1]\n",
    "    tmp['target'].hist(figsize=(6, 3), bins=2, color = 'red')\n",
    "    plt.show();"
   ]
  },
  {
   "cell_type": "markdown",
   "metadata": {},
   "source": [
    "The most significant features:\n",
    "- time_Day - buy more at the end of the month.\n",
    "- time_Hour - buy more at night.\n",
    "- time_Year_Month - Shopping activity increases in the months with fewer weekends and holidays."
   ]
  },
  {
   "cell_type": "code",
   "execution_count": 49,
   "metadata": {},
   "outputs": [
    {
     "name": "stdout",
     "output_type": "stream",
     "text": [
      "time_IsMorning\n"
     ]
    },
    {
     "data": {
      "image/png": "[encoded data removed]",
      "text/plain": [
       "<Figure size 360x216 with 1 Axes>"
      ]
     },
     "metadata": {
      "needs_background": "light"
     },
     "output_type": "display_data"
    },
    {
     "name": "stdout",
     "output_type": "stream",
     "text": [
      "time_Hour\n"
     ]
    },
    {
     "data": {
      "image/png": "[encoded data removed]",
      "text/plain": [
       "<Figure size 360x216 with 1 Axes>"
      ]
     },
     "metadata": {
      "needs_background": "light"
     },
     "output_type": "display_data"
    },
    {
     "name": "stdout",
     "output_type": "stream",
     "text": [
      "time_Day\n"
     ]
    },
    {
     "data": {
      "image/png": "[encoded data removed]",
      "text/plain": [
       "<Figure size 360x216 with 1 Axes>"
      ]
     },
     "metadata": {
      "needs_background": "light"
     },
     "output_type": "display_data"
    },
    {
     "name": "stdout",
     "output_type": "stream",
     "text": [
      "time_Week_Day\n"
     ]
    },
    {
     "data": {
      "image/png": "[encoded data removed]",
      "text/plain": [
       "<Figure size 360x216 with 1 Axes>"
      ]
     },
     "metadata": {
      "needs_background": "light"
     },
     "output_type": "display_data"
    },
    {
     "name": "stdout",
     "output_type": "stream",
     "text": [
      "time_Year_Month\n"
     ]
    },
    {
     "data": {
      "image/png": "[encoded data removed]",
      "text/plain": [
       "<Figure size 360x216 with 1 Axes>"
      ]
     },
     "metadata": {
      "needs_background": "light"
     },
     "output_type": "display_data"
    }
   ],
   "source": [
    "feat = [f for f in cluster_df.columns if 'time' in f]\n",
    "for i in feat:\n",
    "    print(i)\n",
    "    plt.figure()\n",
    "    cluster_df[cluster_df['target'] == 1][i].hist(figsize=(5, 3), alpha=0.4, color = 'green')\n",
    "    cluster_df[cluster_df['target'] == 0][i].hist(figsize=(5, 3), alpha=0.4, color = 'red')\n",
    "    plt.show();"
   ]
  },
  {
   "cell_type": "markdown",
   "metadata": {},
   "source": [
    "- product_clothes - product_clothes is most actively sold, the largest number of banner impressions.\n",
    "- product_sneakers - 2nd product in terms of popularity and sales.\n",
    "- product_accessories and product_sports_nutrition need to research sales figures, add features."
   ]
  },
  {
   "cell_type": "code",
   "execution_count": 50,
   "metadata": {},
   "outputs": [
    {
     "name": "stdout",
     "output_type": "stream",
     "text": [
      "product_accessories\n"
     ]
    },
    {
     "data": {
      "image/png": "[encoded data removed]",
      "text/plain": [
       "<Figure size 432x216 with 1 Axes>"
      ]
     },
     "metadata": {
      "needs_background": "light"
     },
     "output_type": "display_data"
    },
    {
     "name": "stdout",
     "output_type": "stream",
     "text": [
      "product_clothes\n"
     ]
    },
    {
     "data": {
      "image/png": "[encoded data removed]",
      "text/plain": [
       "<Figure size 432x216 with 1 Axes>"
      ]
     },
     "metadata": {
      "needs_background": "light"
     },
     "output_type": "display_data"
    },
    {
     "name": "stdout",
     "output_type": "stream",
     "text": [
      "product_sneakers\n"
     ]
    },
    {
     "data": {
      "image/png": "[encoded data removed]",
      "text/plain": [
       "<Figure size 432x216 with 1 Axes>"
      ]
     },
     "metadata": {
      "needs_background": "light"
     },
     "output_type": "display_data"
    },
    {
     "name": "stdout",
     "output_type": "stream",
     "text": [
      "product_sports_nutrition\n"
     ]
    },
    {
     "data": {
      "image/png": "[encoded data removed]",
      "text/plain": [
       "<Figure size 432x216 with 1 Axes>"
      ]
     },
     "metadata": {
      "needs_background": "light"
     },
     "output_type": "display_data"
    }
   ],
   "source": [
    "feat = [f for f in cluster_df.columns if 'product' in f and '_company' not in f]\n",
    "for i in feat:\n",
    "    print(i)\n",
    "    plt.figure()\n",
    "    tmp = cluster_df[cluster_df[i] == 1]\n",
    "    tmp['target'].hist(figsize=(6, 3), bins=3)\n",
    "    plt.show();"
   ]
  },
  {
   "cell_type": "code",
   "execution_count": null,
   "metadata": {},
   "outputs": [],
   "source": []
  }
 ],
 "metadata": {
  "kernelspec": {
   "display_name": "Python 3 (ipykernel)",
   "language": "python",
   "name": "python3"
  },
  "language_info": {
   "codemirror_mode": {
    "name": "ipython",
    "version": 3
   },
   "file_extension": ".py",
   "mimetype": "text/x-python",
   "name": "python",
   "nbconvert_exporter": "python",
   "pygments_lexer": "ipython3",
   "version": "3.9.12"
  }
 },
 "nbformat": 4,
 "nbformat_minor": 4
}
